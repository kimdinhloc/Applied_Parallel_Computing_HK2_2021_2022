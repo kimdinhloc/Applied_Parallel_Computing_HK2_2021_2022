{
  "cells": [
    {
      "cell_type": "markdown",
      "metadata": {
        "id": "view-in-github",
        "colab_type": "text"
      },
      "source": [
        "<a href=\"https://colab.research.google.com/github/kimdinhloc/Applied_Parallel_Programming_HK2_2021_2022/blob/main/Report.ipynb\" target=\"_parent\"><img src=\"https://colab.research.google.com/assets/colab-badge.svg\" alt=\"Open In Colab\"/></a>"
      ]
    },
    {
      "cell_type": "markdown",
      "metadata": {
        "id": "WP_WWlQ4Os7H"
      },
      "source": [
        "# **ĐỒ ÁN LẬP TRÌNH SONG SONG ỨNG DỤNG**\n",
        "\n",
        "# BACKGROUND REMOVAL WITH GRABCUT AND SUPERPIXELS\n",
        "\n",
        "## Giáo viên: Trần Trung Kiên\n",
        "\n",
        "### Sinh viên:\n",
        "- 1712568\tKIM ĐÌNH LỘC\t\n",
        "- 1712787\tNGUYỄN VĂN THÌN\t\n",
        "- 1712898\tTRẦN VIỆT VĂN\t\n"
      ]
    },
    {
      "cell_type": "markdown",
      "source": [
        "#0. Ý NGHĨA TỪ NGỮ"
      ],
      "metadata": {
        "id": "fpB1zan-5aT_"
      }
    },
    {
      "cell_type": "markdown",
      "source": [
        "**GrabCut** là phương pháp để phân đoạn một cách chính xác tiền cảnh của hình ảnh khỏi hậu cảnh."
      ],
      "metadata": {
        "id": "mLprXRtqRclG"
      }
    },
    {
      "cell_type": "markdown",
      "source": [
        " <img src=\"https://raw.githubusercontent.com/kimdinhloc/Applied_Parallel_Programming_HK2_2021_2022/main/Illustrated%20image/Grabcut.png\"\n",
        "     width=\"400\" \n",
        "     height=\"\" />\n"
      ],
      "metadata": {
        "id": "PZSUWpTniZQE"
      }
    },
    {
      "cell_type": "markdown",
      "source": [
        "**Superpixel** là kết quả của việc nhóm các pixel theo cảm nhận màu sắc, hoặc theo cách nhìn khác, đó là kết quả của sự phân đoạn hình ảnh.([Tu-chemnitz.de. 2022. Superpixel | TU Chemnitz](https://www.tu-chemnitz.de/etit/proaut/en/research/superpixel.html))\n",
        "\n",
        "\n",
        "**Superpixel segmentation** là quá trình phân đoạn hình ảnh thành nhiều superpixels."
      ],
      "metadata": {
        "id": "xSTA5loR5h3g"
      }
    },
    {
      "cell_type": "markdown",
      "source": [
        " <img src=\"https://raw.githubusercontent.com/kimdinhloc/Applied_Parallel_Programming_HK2_2021_2022/main/Illustrated%20image/Dog_SLIC.jpg\" \n",
        "     width=\"400\"  />\n",
        "\n"
      ],
      "metadata": {
        "id": "L8tnPXRC8Cvf"
      }
    },
    {
      "cell_type": "markdown",
      "metadata": {
        "id": "NAdjw0tfPN_O"
      },
      "source": [
        "#1. MÔ TẢ ỨNG DỤNG"
      ]
    },
    {
      "cell_type": "markdown",
      "source": [
        "**Ứng dụng mà nhóm chọn là BACKGROUND REMOVAL WITH GRABCUT AND SUPERPIXELS**.  "
      ],
      "metadata": {
        "id": "c7b0Ysc8QulH"
      }
    },
    {
      "cell_type": "markdown",
      "source": [
        "Lý do chọn đề tài:"
      ],
      "metadata": {
        "id": "6QnP_ICVQnfG"
      }
    },
    {
      "cell_type": "markdown",
      "source": [
        "Đối với grabcut, kết quả phân đoạn hình ảnh với Foreground có thể mất vài vị trí. Để tăng cường hình ảnh tốt hơn ta chọn superpixels với mong muốn lắp đầy các lỗ trống trong Foreground mà vẫn tuân thủ đường viền."
      ],
      "metadata": {
        "id": "vQ1WTwtWfPDz"
      }
    },
    {
      "cell_type": "markdown",
      "source": [
        "<img src=\"https://raw.githubusercontent.com/kimdinhloc/Applied_Parallel_Programming_HK2_2021_2022/main/Illustrated%20image/compair.jpg.png\" \n",
        "     width=\"1218\" \n",
        "     height=\"300\" />"
      ],
      "metadata": {
        "id": "wvMvY87_Q_OG"
      }
    },
    {
      "cell_type": "markdown",
      "metadata": {
        "id": "EMUBooq1PMlF"
      },
      "source": [
        "**Input:**  \n",
        " - Một tấm ảnh RGB\n",
        " - Mô hình yolov3 được đào tạo sẵn với coco dataset.\n",
        "\n",
        " \n",
        "  \n",
        "  <img src=\"https://raw.githubusercontent.com/kimdinhloc/Applied_Parallel_Programming_HK2_2021_2022/main/Illustrated%20image/Dog.JPG\" \n",
        "     width=\"640\" \n",
        "     height=\"455\" />"
      ]
    },
    {
      "cell_type": "markdown",
      "source": [
        "**Output**  \n",
        "Ảnh đầu vào được remove background.  \n",
        "<img src=\"https://raw.githubusercontent.com/kimdinhloc/Applied_Parallel_Programming_HK2_2021_2022/main/Illustrated%20image/Dog_output.jpg\" \n",
        "     width=\"640\" \n",
        "     height=\"455\" />\n"
      ],
      "metadata": {
        "id": "ZATLI0N_1p8C"
      }
    },
    {
      "cell_type": "markdown",
      "metadata": {
        "id": "BoNknrviQJQW"
      },
      "source": [
        "- Ý nghĩa của ứng dụng:\n",
        "  - Hỗ trợ tách/lọc nền trong việc chỉnh sửa ảnh.\n",
        "  - Nghiên cứu về segmentation việc xoá background.\n",
        "  - Giảm độ phức tạp của các bước xử lý ảnh của vấn đề mở rộng bài toán của mô hình này.\n",
        "- Lý do cần tăng tốc ứng dụng:\n",
        "\t- Ứng dụng sẽ chạy chậm nếu cài đặt tuần tự.\n",
        "\t- Nhu cầu xử lý dữ liệu lớn, ảnh có độ phân giải cao thì việc tạo superpixels yêu cầu tính toán lớn do độ phức tạp thuật toán cao với khoảng O(n^3).\n",
        "- Tiềm năng song song hóa của ứng dụng: \n",
        "  - Song song hoá việc chuyển từ hệ màu RGB sang hệ màu CELAB, matching superpixels và việc tính toán từ trung tâm cụm đến từng pixel trong vùng \n",
        "  - Thực hiện song song hoá quá trình xử lý hình ảnh.\n",
        "- Thách thức:\n",
        "  - Quá trình song song hoá tác vụ kết nối các pixel trong SLIC gần như không thể.\n",
        "  - Quá trình convolution gặp khó khăn khi có quá nhiều vòng lặp.\n",
        "  - Việc song song hoá mô hình GRABCUT là không thể.\n",
        "  - Thời gian xử lý lâu hơn so với model Machine Learning/deep learning.\n",
        "  - Độ chính xác không cao so với deep learning."
      ]
    },
    {
      "cell_type": "markdown",
      "source": [
        "#2. QUÁ TRÌNH THỰC HIỆN"
      ],
      "metadata": {
        "id": "jdbqM8qFxUju"
      }
    },
    {
      "cell_type": "markdown",
      "source": [
        "<img src=\"https://raw.githubusercontent.com/kimdinhloc/Applied_Parallel_Programming_HK2_2021_2022/main/Illustrated%20image/Model/timeline.JPG\" \n",
        "     width=\"1152\" \n",
        "     height=\"360\" />"
      ],
      "metadata": {
        "id": "uqTLK9-88SBa"
      }
    },
    {
      "cell_type": "markdown",
      "source": [
        "#3. CÀI ĐẶT TUẦN TỰ"
      ],
      "metadata": {
        "id": "wvPMm4qrEB4S"
      }
    },
    {
      "cell_type": "markdown",
      "source": [
        "Đối với cài đặt tuần tự và song song. Chúng ta đều thực hiện thử trên 1 ảnh duy nhất với kích thước 640x455 như hình dưới."
      ],
      "metadata": {
        "id": "Ar6DlwmpPFz_"
      }
    },
    {
      "cell_type": "markdown",
      "source": [
        "  <img src=\"https://raw.githubusercontent.com/kimdinhloc/Applied_Parallel_Programming_HK2_2021_2022/main/Illustrated%20image/Dog.JPG\" \n",
        "     width=\"640\" \n",
        "     height=\"455\" />"
      ],
      "metadata": {
        "id": "ceDhmdIqPYqk"
      }
    },
    {
      "cell_type": "code",
      "source": [
        "%%capture\n",
        "#@title Download các mô hình và code cần thiết { display-mode: \"form\" }\n",
        "!wget https://raw.githubusercontent.com/kimdinhloc/Applied_Parallel_Programming_HK2_2021_2022/main/Illustrated%20image/Dog.JPG\n",
        "import matplotlib.pyplot as plt\n",
        "import cv2\n",
        "!wget https://pjreddie.com/media/files/yolov3.weights\n",
        "!wget https://raw.githubusercontent.com/pjreddie/darknet/master/cfg/yolov3.cfg\n",
        "!wget https://raw.githubusercontent.com/pjreddie/darknet/master/data/coco.names\n",
        "!wget https://raw.githubusercontent.com/kimdinhloc/Applied_Parallel_Programming_HK2_2021_2022/main/src/sequential.py\n",
        "!wget https://raw.githubusercontent.com/kimdinhloc/Applied_Parallel_Programming_HK2_2021_2022/main/src/seq_jit.py\n",
        "!wget https://raw.githubusercontent.com/kimdinhloc/Applied_Parallel_Programming_HK2_2021_2022/main/src/seq_jit_v2.py\n",
        "!wget https://raw.githubusercontent.com/kimdinhloc/Applied_Parallel_Programming_HK2_2021_2022/main/src/Parallel_v1.py\n",
        "!wget https://raw.githubusercontent.com/kimdinhloc/Applied_Parallel_Programming_HK2_2021_2022/main/src/parallel_v2.py"
      ],
      "metadata": {
        "id": "WorJoZhdQ_EO"
      },
      "execution_count": null,
      "outputs": []
    },
    {
      "cell_type": "markdown",
      "metadata": {
        "id": "oBZyFvkhfn3L"
      },
      "source": [
        "##3.1. Mô hình tuần tự, không jit"
      ]
    },
    {
      "cell_type": "markdown",
      "source": [
        "###3.1.1. Thiết kế"
      ],
      "metadata": {
        "id": "VIRkgDPgzobn"
      }
    },
    {
      "cell_type": "markdown",
      "source": [
        "<img src=\"https://raw.githubusercontent.com/kimdinhloc/Applied_Parallel_Programming_HK2_2021_2022/main/Illustrated%20image/Model/non_jit.JPG\" \n",
        "     width=\"1152\" \n",
        "     height=\"\" />"
      ],
      "metadata": {
        "id": "ggds0YRYCC30"
      }
    },
    {
      "cell_type": "markdown",
      "source": [
        "#### a. Superpixels"
      ],
      "metadata": {
        "id": "wpRivwq9ZiX8"
      }
    },
    {
      "cell_type": "markdown",
      "source": [
        "Trong mô hình này SLIC Superpixels có 5 bước gồm:\n",
        "\n",
        "*   Convert to CIELAB\n",
        "*   Initialize cluster center\n",
        "*   Loops to find matching pixels\n",
        "*   Compute new cluster\n",
        "*   Connect cluster\n",
        "\n"
      ],
      "metadata": {
        "id": "jIBws_2yoiMy"
      }
    },
    {
      "cell_type": "markdown",
      "source": [
        "**Convert to CIELAB**"
      ],
      "metadata": {
        "id": "vYb4ADLBqA0x"
      }
    },
    {
      "cell_type": "markdown",
      "source": [
        "Ref: https://docs.opencv.org/3.4/de/d25/imgproc_color_conversions.html#color_convert_rgb_lab"
      ],
      "metadata": {
        "id": "pBPW3HQBqZxD"
      }
    },
    {
      "cell_type": "markdown",
      "source": [
        "Việc convert diễn ra trong 2 giai đoạn, RGB to XYZ và XYZ to CIELAB"
      ],
      "metadata": {
        "id": "C4GeGLoosxM6"
      }
    },
    {
      "cell_type": "markdown",
      "source": [
        "<img src=\"https://raw.githubusercontent.com/kimdinhloc/Applied_Parallel_Programming_HK2_2021_2022/main/Illustrated%20image/BRG2LAB.png\"\n",
        "     width=\"520\" \n",
        "     height=\"358\" />"
      ],
      "metadata": {
        "id": "1278k62kqrmh"
      }
    },
    {
      "cell_type": "markdown",
      "source": [
        "**Initialize cluster center**"
      ],
      "metadata": {
        "id": "dbLBHqNsqOgZ"
      }
    },
    {
      "cell_type": "markdown",
      "source": [
        "Việc khởi tạo các cluster center được dựa trên độ lớn khoảng cách *segmentSize* (kí hiệu là S) ở input đầu vào.\n"
      ],
      "metadata": {
        "id": "Tl7FAU9qs7_S"
      }
    },
    {
      "cell_type": "markdown",
      "source": [
        "<img src=\"https://raw.githubusercontent.com/kimdinhloc/Applied_Parallel_Programming_HK2_2021_2022/main/Illustrated%20image/Initialize_cluster_center_1.png\"\n",
        "     width=\"315\" \n",
        "     height=\"\" />"
      ],
      "metadata": {
        "id": "Bp2TkAckvWUa"
      }
    },
    {
      "cell_type": "markdown",
      "source": [
        "Các cluster sẽ cách đều nhau một khoảng *S* và chúng ta sẽ có vùng liên kết xung quanh mỗi cluster là 2*S*x2*S*.  \n",
        "Vùng liên kết là vùng mà các pixel có khả năng gộp lại thành các superpixels."
      ],
      "metadata": {
        "id": "DTM2aBP1vmmT"
      }
    },
    {
      "cell_type": "markdown",
      "source": [
        "<img src=\"https://raw.githubusercontent.com/kimdinhloc/Applied_Parallel_Programming_HK2_2021_2022/main/Illustrated%20image/Initialize_cluster_center_2.png\"\n",
        "     width=\"359\" \n",
        "     height=\"\" />"
      ],
      "metadata": {
        "id": "74Q0Kv4Mu9IF"
      }
    },
    {
      "cell_type": "markdown",
      "source": [
        "**Loops to find matching pixels**"
      ],
      "metadata": {
        "id": "LlPvljfPqRAh"
      }
    },
    {
      "cell_type": "markdown",
      "source": [
        "Việc tìm các superpixels dựa vào thước đo khoảng cách của từng pixel trong vùng liên kết"
      ],
      "metadata": {
        "id": "aEx1epQdxafz"
      }
    },
    {
      "cell_type": "markdown",
      "source": [
        "<img src=\"https://raw.githubusercontent.com/kimdinhloc/Applied_Parallel_Programming_HK2_2021_2022/main/Illustrated%20image/find_matching_pixels_1.png\"\n",
        "     width=\"400\" \n",
        "     height=\"\"/>"
      ],
      "metadata": {
        "id": "r9-MZqR2xngh"
      }
    },
    {
      "cell_type": "markdown",
      "source": [
        "**Compute new cluster**"
      ],
      "metadata": {
        "id": "jXZRjBecqO65"
      }
    },
    {
      "cell_type": "markdown",
      "source": [
        "Việc tính toán cluster mới dựa vào thước đo khoảng cách Ds ở phía trên.  \n",
        "Khoảng cách từ cluster nhỏ hơn khoảng cách ban đầu, thì pixel đó là phần tử của cluster mới."
      ],
      "metadata": {
        "id": "g0tZeasByQBy"
      }
    },
    {
      "cell_type": "markdown",
      "source": [
        "**Connect cluster**"
      ],
      "metadata": {
        "id": "sw-COaAHqT2k"
      }
    },
    {
      "cell_type": "markdown",
      "source": [
        "Việc connect cluster dựa trên ý tưởng:  \n",
        "Sau khi hoàn thành việc tạo ra các superpixels, sẽ có khả năng tạo ra những cluster nhỏ hoặc siêu nhỏ.  \n",
        "Việc có nhiều cluster siêu nhỏ khiến cho số lượng cluster tăng lên, làm mất nhiều thời gian cho việc xử lý."
      ],
      "metadata": {
        "id": "310z-lgczNcy"
      }
    },
    {
      "cell_type": "markdown",
      "source": [
        "Minh hoạ về việc connect cluster:\n",
        "Ảnh trái gồm 3 cluster. Trong đó có 1 cluster chỉ có 1 pixel. Mong muốn của chúng ta sẽ gộp các cluster siêu nhỏ với các cluster khác, làm giảm độ lớn của các centers.  \n",
        "<img src=\"https://raw.githubusercontent.com/kimdinhloc/Applied_Parallel_Programming_HK2_2021_2022/main/Illustrated%20image/Connect_cluster_1.png\"\n",
        "     width=\"600\" \n",
        "     height=\"\"/>"
      ],
      "metadata": {
        "id": "hQCPYBNg1XCn"
      }
    },
    {
      "cell_type": "markdown",
      "source": [
        "#### b. YOLOv3 và Grabcut"
      ],
      "metadata": {
        "id": "AXT_mRRTZr90"
      }
    },
    {
      "cell_type": "markdown",
      "source": [
        "Đối với grabcut, để có thể xác định được tiền cảnh và hậu cảnh. Mô hình cần một chỉ định bouding box do người dùng đưa vào. Do đó ta cần mô hình yolov3 để detection các object và đưa vào bouding box lớn nhất.\n",
        "Output của grabcut là một mảng phân biêt giữa tiền cảnh(Màu vàng) và hậu cảnh(màu xanh)"
      ],
      "metadata": {
        "id": "VBtNj7GgZrk5"
      }
    },
    {
      "cell_type": "markdown",
      "source": [
        " <img src=\"https://raw.githubusercontent.com/kimdinhloc/Applied_Parallel_Programming_HK2_2021_2022/main/Illustrated%20image/Grabcut.png\"\n",
        "     width=\"400\" \n",
        "     height=\"\" />\n"
      ],
      "metadata": {
        "id": "144Hz-P_Z3z8"
      }
    },
    {
      "cell_type": "markdown",
      "source": [
        "#### c. Xử lý hình ảnh và output"
      ],
      "metadata": {
        "id": "Ro91kgJsZzoW"
      }
    },
    {
      "cell_type": "markdown",
      "source": [
        "Sau khi chúng ta có outline(SLIC) và mask(Grabcut) gồm các clusters từ SLIC và mask từ Grabcut. Thì ta tiến hành tạo một segment mask.  \n",
        "Đặt:  \n",
        "- $S_i$ là tổng pixel của superpixels thứ $i$\n",
        "- $S_mask$ là tổng pixel của superpixels thuộc mask  \n",
        "Nếu:  \n",
        "\\begin{align}\n",
        "    \\frac{ S_i }{S_{mask}} > threshold\n",
        "\\end{align}  \n",
        "Thì: superpixels đó được xác định là superpixel chứa các pixel của object"
      ],
      "metadata": {
        "id": "w6nNTLHHZ4gN"
      }
    },
    {
      "cell_type": "markdown",
      "source": [
        "Sau khi hoàn thành segment mask. Ta tiến hành gaussianblur để có một đường viền mịn hơn và đặt ngưỡng để xác định viền hoặc các superpixel siêu nhỏ có thể được gom lại với các superpixels khác."
      ],
      "metadata": {
        "id": "FeKfnRf9e3tD"
      }
    },
    {
      "cell_type": "markdown",
      "source": [
        "Việc còn lại là ánh xạ hình ảnh từ srcImage sang dstImage dựa trên segment mask."
      ],
      "metadata": {
        "id": "g67QVztJgEGC"
      }
    },
    {
      "cell_type": "markdown",
      "source": [
        "### 3.1.2. Thử nghiệm"
      ],
      "metadata": {
        "id": "NEts-l_bEjM8"
      }
    },
    {
      "cell_type": "code",
      "source": [
        "#@title Run { display-mode: \"both\" }\n",
        "%%time\n",
        "!python /content/sequential.py /content/Dog.JPG"
      ],
      "metadata": {
        "colab": {
          "base_uri": "https://localhost:8080/"
        },
        "id": "yvFX_txIRvu_",
        "outputId": "3157829f-20dd-4acd-a7a6-d7e61dc08870"
      },
      "execution_count": null,
      "outputs": [
        {
          "output_type": "stream",
          "name": "stdout",
          "text": [
            "CPU times: user 2.06 s, sys: 294 ms, total: 2.35 s\n",
            "Wall time: 4min 48s\n"
          ]
        }
      ]
    },
    {
      "cell_type": "code",
      "source": [
        "#@title Show output\n",
        "image=cv2.imread(\"/content/Dog.JPG_output.jpg\")\n",
        "plt.imshow(cv2.cvtColor(image,cv2.COLOR_BGR2RGB))"
      ],
      "metadata": {
        "colab": {
          "base_uri": "https://localhost:8080/",
          "height": 286
        },
        "id": "7NB70jYmSAZl",
        "outputId": "209b4c83-5242-44a7-d2fc-e550d4db7be2",
        "cellView": "form"
      },
      "execution_count": null,
      "outputs": [
        {
          "output_type": "execute_result",
          "data": {
            "text/plain": [
              "<matplotlib.image.AxesImage at 0x7fb27375bcd0>"
            ]
          },
          "metadata": {},
          "execution_count": 8
        },
        {
          "output_type": "display_data",
          "data": {
            "text/plain": [
              "<Figure size 432x288 with 1 Axes>"
            ],
            "image/png": "[encoded data removed]"
          },
          "metadata": {
            "needs_background": "light"
          }
        }
      ]
    },
    {
      "cell_type": "markdown",
      "source": [
        "##3.2. Mô hình tuần tự, jit lần 1"
      ],
      "metadata": {
        "id": "AIzjE3RPyApe"
      }
    },
    {
      "cell_type": "markdown",
      "source": [
        "###3.2.1. Thiết kế"
      ],
      "metadata": {
        "id": "XII4s2c60Kux"
      }
    },
    {
      "cell_type": "markdown",
      "source": [
        "Dựa trên mô hình tuần tự chưa jit, nhóm tiến hành jit các hàm có thể được jit ngay tại thời điểm đó"
      ],
      "metadata": {
        "id": "SLQXuP_I1MOF"
      }
    },
    {
      "cell_type": "markdown",
      "source": [
        "<img src=\"https://raw.githubusercontent.com/kimdinhloc/Applied_Parallel_Programming_HK2_2021_2022/main/Illustrated%20image/Model/jit_v1.JPG\" \n",
        "     width=\"1152\" \n",
        "     height=\"360\" />"
      ],
      "metadata": {
        "id": "fne-njbH1ly2"
      }
    },
    {
      "cell_type": "markdown",
      "source": [
        "###3.2.2. Thực nghiệm"
      ],
      "metadata": {
        "id": "xC9LORDY0JBX"
      }
    },
    {
      "cell_type": "code",
      "source": [
        "#@title Run\n",
        "%%time\n",
        "!python /content/seq_jit.py /content/Dog.JPG"
      ],
      "metadata": {
        "colab": {
          "base_uri": "https://localhost:8080/"
        },
        "cellView": "form",
        "id": "BOm7pB34YdKo",
        "outputId": "20e2fcab-4817-477e-c254-0ffae44d9ff2"
      },
      "execution_count": null,
      "outputs": [
        {
          "output_type": "stream",
          "name": "stdout",
          "text": [
            "CPU times: user 1.6 s, sys: 213 ms, total: 1.81 s\n",
            "Wall time: 3min 43s\n"
          ]
        }
      ]
    },
    {
      "cell_type": "code",
      "source": [
        "#@title Show output\n",
        "image=cv2.imread(\"/content/Dog.jpg\")\n",
        "plt.imshow(cv2.cvtColor(image,cv2.COLOR_BGR2RGB))"
      ],
      "metadata": {
        "colab": {
          "base_uri": "https://localhost:8080/",
          "height": 286
        },
        "cellView": "form",
        "id": "lNRBKo_dYdIN",
        "outputId": "f1fc3cbc-ee74-4f9f-c37e-1a92f6a5a9c3"
      },
      "execution_count": null,
      "outputs": [
        {
          "output_type": "execute_result",
          "data": {
            "text/plain": [
              "<matplotlib.image.AxesImage at 0x7fb26a690310>"
            ]
          },
          "metadata": {},
          "execution_count": 14
        },
        {
          "output_type": "display_data",
          "data": {
            "text/plain": [
              "<Figure size 432x288 with 1 Axes>"
            ],
            "image/png": "[encoded data removed]"
          },
          "metadata": {
            "needs_background": "light"
          }
        }
      ]
    },
    {
      "cell_type": "markdown",
      "source": [
        "##3.3. Mô hình tuần tự, jit lần 2"
      ],
      "metadata": {
        "id": "IYxS3VwVz-2I"
      }
    },
    {
      "cell_type": "markdown",
      "source": [
        "Mô hình tuần tự và jit lần thứ 2 dựa trên kinh nghiệm của việc jit lần 1, sự khó khăn của code khi song song quá lần 1 gặp nhiều vướng mắc, khó khăn.  \n",
        "Từ đó, nhóm quyết định code mô hình tuần tự, jit lần 2 để giải quyết các khó khăn đồng thời tạo nền tảng tốt hơn đến việc song song hoá lần 2"
      ],
      "metadata": {
        "id": "5waPzkKT0in2"
      }
    },
    {
      "cell_type": "markdown",
      "source": [
        "###3.3.1. Thiết kế"
      ],
      "metadata": {
        "id": "CIwwJwk20bHH"
      }
    },
    {
      "cell_type": "markdown",
      "source": [
        "<img src=\"https://raw.githubusercontent.com/kimdinhloc/Applied_Parallel_Programming_HK2_2021_2022/main/Illustrated%20image/Model/jit_v2_1.JPG\" \n",
        "     width=\"1152\" \n",
        "     height=\"360\" />"
      ],
      "metadata": {
        "id": "itK83HNt0bDu"
      }
    },
    {
      "cell_type": "markdown",
      "source": [
        "**Quyết định:**\n",
        "- Bỏ connected clustervới lý do: Không song song hoá được, mất nhiều thời gian tính toán, khiến cho output xấu hơn.\n",
        "- Tái cấu trúc SLIC superpixels: \n",
        "    1.   Đơn giản hoá việc tạo các cluster\n",
        "    2.   Bỏ đi việc tạo mảng 2S*2S. Tiến hành tính toán trực tiếp vào mảng copy của mảng gốc => Từ đó giúp tiết kiệm thời gian rất nhiều trong SLIC\n",
        "    3.   Giảm thiểu việc mảng mới, mảng nhỏ.\n",
        "    4.   jit các phần còn lại của jit lần 1.\n",
        "- Graussan Blur với kernel lớn hơn. Tạo ra vùng chuyển tiếp mượt hơn so với phiên bản trước.\n",
        "\n",
        "\n"
      ],
      "metadata": {
        "id": "5rth-tfJVsDE"
      }
    },
    {
      "cell_type": "markdown",
      "source": [
        "<img src=\"https://raw.githubusercontent.com/kimdinhloc/Applied_Parallel_Programming_HK2_2021_2022/main/Illustrated%20image/Model/jit_v2_2.JPG\" \n",
        "     width=\"1152\" \n",
        "     height=\"360\" />"
      ],
      "metadata": {
        "id": "1_WiDBzQLi0K"
      }
    },
    {
      "cell_type": "markdown",
      "source": [
        "###3.3.2. Thực nghiệm"
      ],
      "metadata": {
        "id": "__NSyLi-0bAp"
      }
    },
    {
      "cell_type": "code",
      "source": [
        "#@title Run { display-mode: \"form\" }\n",
        "%%time\n",
        "!python /content/seq_jit_v2.py /content/Dog.JPG"
      ],
      "metadata": {
        "colab": {
          "base_uri": "https://localhost:8080/"
        },
        "id": "7yq_jFcfTgrf",
        "outputId": "4530d679-5df6-47f1-beed-4b6b7ca75b90"
      },
      "execution_count": null,
      "outputs": [
        {
          "output_type": "stream",
          "name": "stdout",
          "text": [
            "CPU times: user 629 ms, sys: 79.1 ms, total: 709 ms\n",
            "Wall time: 1min 23s\n"
          ]
        }
      ]
    },
    {
      "cell_type": "code",
      "source": [
        "#@title Show output { display-mode: \"form\" }\n",
        "image=cv2.imread(\"/content/Dog_output.jpg\")\n",
        "plt.imshow(cv2.cvtColor(image,cv2.COLOR_BGR2RGB))"
      ],
      "metadata": {
        "colab": {
          "base_uri": "https://localhost:8080/",
          "height": 286
        },
        "id": "DIdh1SI3Tgo1",
        "outputId": "2669af91-1168-4f60-a0f5-14bae0581c5b"
      },
      "execution_count": null,
      "outputs": [
        {
          "output_type": "execute_result",
          "data": {
            "text/plain": [
              "<matplotlib.image.AxesImage at 0x7fb26a724190>"
            ]
          },
          "metadata": {},
          "execution_count": 11
        },
        {
          "output_type": "display_data",
          "data": {
            "text/plain": [
              "<Figure size 432x288 with 1 Axes>"
            ],
            "image/png": "[encoded data removed]"
          },
          "metadata": {
            "needs_background": "light"
          }
        }
      ]
    },
    {
      "cell_type": "markdown",
      "source": [
        "#4. CÀI ĐẶT SONG SONG"
      ],
      "metadata": {
        "id": "j8GZUHwjEu6M"
      }
    },
    {
      "cell_type": "markdown",
      "source": [
        "##4.1. Song song hoá lần 1"
      ],
      "metadata": {
        "id": "aHC-gW8m3CaV"
      }
    },
    {
      "cell_type": "markdown",
      "source": [
        "###4.1.1. Thiết kế"
      ],
      "metadata": {
        "id": "jQZUPQcg3HJd"
      }
    },
    {
      "cell_type": "markdown",
      "source": [
        "Mô hình được thiết kế theo sự kế thừa của mô hình tuần tự jit lần 1"
      ],
      "metadata": {
        "id": "Cu9ptGRU3Q1u"
      }
    },
    {
      "cell_type": "markdown",
      "source": [
        "<img src=\"https://raw.githubusercontent.com/kimdinhloc/Applied_Parallel_Programming_HK2_2021_2022/main/Illustrated%20image/Model/parallel_v1.JPG\" \n",
        "     width=\"1152\" \n",
        "     height=\"360\" />"
      ],
      "metadata": {
        "id": "YwRPPtDkewIz"
      }
    },
    {
      "cell_type": "markdown",
      "source": [
        "Ý tưởng song song hóa:\n",
        "- Việc thay thế 2 dòng for trong duyệt mảng bằng việc dùng cuda.grid(2) ở 4 hàm trong mô hình thiết kế của jit lần 1"
      ],
      "metadata": {
        "id": "ukyTNOzdUDV0"
      }
    },
    {
      "cell_type": "markdown",
      "source": [
        "###4.1.2. Thực nghiệm"
      ],
      "metadata": {
        "id": "E-1d-8X73k7G"
      }
    },
    {
      "cell_type": "code",
      "source": [
        "#@title Run { display-mode: \"form\" }\n",
        "%%time\n",
        "!python /content/Parallel_v1.py /content/Dog.JPG"
      ],
      "metadata": {
        "colab": {
          "base_uri": "https://localhost:8080/"
        },
        "id": "R6q1fQILdtLQ",
        "outputId": "47321e10-9928-40b6-ff6b-67aa8754f0a3"
      },
      "execution_count": null,
      "outputs": [
        {
          "output_type": "stream",
          "name": "stdout",
          "text": [
            "CPU times: user 960 ms, sys: 152 ms, total: 1.11 s\n",
            "Wall time: 3min 30s\n"
          ]
        }
      ]
    },
    {
      "cell_type": "code",
      "source": [
        "#@title Show output { display-mode: \"form\" }\n",
        "image=cv2.imread(\"/content/Dog_output.jpg\")\n",
        "plt.imshow(cv2.cvtColor(image,cv2.COLOR_BGR2RGB))"
      ],
      "metadata": {
        "colab": {
          "base_uri": "https://localhost:8080/",
          "height": 286
        },
        "id": "mBk82y7idtjM",
        "outputId": "add24e43-ee49-40de-ebe9-9f5cc319ca54"
      },
      "execution_count": null,
      "outputs": [
        {
          "output_type": "execute_result",
          "data": {
            "text/plain": [
              "<matplotlib.image.AxesImage at 0x7faf41c3e3d0>"
            ]
          },
          "metadata": {},
          "execution_count": 5
        },
        {
          "output_type": "display_data",
          "data": {
            "text/plain": [
              "<Figure size 432x288 with 1 Axes>"
            ],
            "image/png": "[encoded data removed]"
          },
          "metadata": {
            "needs_background": "light"
          }
        }
      ]
    },
    {
      "cell_type": "markdown",
      "source": [
        "### 4.1.3. Rút kinh nghiệm song song hoá lần 1"
      ],
      "metadata": {
        "id": "qtfQAOsDVHVJ"
      }
    },
    {
      "cell_type": "markdown",
      "source": [
        "Lý do: Một số phần chưa thể cuda.jit do thực hiện tính toán và tạo mảng trong hàm khiến cho cuda.jit không thể tạo kernel.  \n",
        "Hướng giải quyết: Thực hiện tái cấu trúc code phần SLIC Superpixels dựa trên file jit lần 2 cho việc song song hoá lần tiếp theo"
      ],
      "metadata": {
        "id": "BWg9Zr0WhXfD"
      }
    },
    {
      "cell_type": "markdown",
      "source": [
        "##4.2.Song song hóa lần 2"
      ],
      "metadata": {
        "id": "4IQnsSrpkjEl"
      }
    },
    {
      "cell_type": "markdown",
      "source": [
        "###4.2.1. Thiết kế "
      ],
      "metadata": {
        "id": "7RtoBZ7V4i14"
      }
    },
    {
      "cell_type": "markdown",
      "source": [
        "Mô hình song song hoá được dựa vào jit version 2."
      ],
      "metadata": {
        "id": "a4KU3OtxghUy"
      }
    },
    {
      "cell_type": "markdown",
      "source": [
        "<img src=\"https://raw.githubusercontent.com/kimdinhloc/Applied_Parallel_Programming_HK2_2021_2022/main/Illustrated%20image/Model/parallel_v2.JPG\" \n",
        "     width=\"1152\"  />\n"
      ],
      "metadata": {
        "id": "WfTvpLcNn0ND"
      }
    },
    {
      "cell_type": "markdown",
      "source": [
        "Tương tự version 1, ta song song những đoạn có 2 vòng for với range bằng kích thước height và width của image.  \n",
        "Sử dụng các biến global để chưa Image, tránh việc copy data nhiều lần cũng như tăng tốc thêm được một ít thời gian.  \n",
        "Sử dụng njit(parallel=True) với các vòng lặp đơn giản để parallel trên CPU."
      ],
      "metadata": {
        "id": "oJpAyjQ0g1rC"
      }
    },
    {
      "cell_type": "markdown",
      "source": [
        "###4.2.2. **Thực nghiệm dự kiến**"
      ],
      "metadata": {
        "id": "iyYWPD_HlWLg"
      }
    },
    {
      "cell_type": "code",
      "source": [
        "#@title Run { display-mode: \"form\" }\n",
        "%%time\n",
        "!python /content/parallel_v2.py /content/Dog.JPG"
      ],
      "metadata": {
        "colab": {
          "base_uri": "https://localhost:8080/"
        },
        "id": "aSw8FwCfdvzc",
        "outputId": "05bb0e7e-9df9-4661-de6b-8921a3b8de59"
      },
      "execution_count": null,
      "outputs": [
        {
          "output_type": "stream",
          "name": "stdout",
          "text": [
            "/usr/local/lib/python3.7/dist-packages/numba/np/ufunc/parallel.py:363: NumbaWarning: The TBB threading layer requires TBB version 2019.5 or later i.e., TBB_INTERFACE_VERSION >= 11005. Found TBB_INTERFACE_VERSION = 9107. The TBB threading layer is disabled.\n",
            "  warnings.warn(problem)\n",
            "CPU times: user 92.5 ms, sys: 17.6 ms, total: 110 ms\n",
            "Wall time: 16 s\n"
          ]
        }
      ]
    },
    {
      "cell_type": "code",
      "source": [
        "#@title Show output { display-mode: \"form\" }\n",
        "image=cv2.imread(\"/content/Dog_output.jpg\")\n",
        "plt.imshow(cv2.cvtColor(image,cv2.COLOR_BGR2RGB))"
      ],
      "metadata": {
        "colab": {
          "base_uri": "https://localhost:8080/",
          "height": 286
        },
        "id": "oSA-58bAdvw0",
        "outputId": "a8d5c7b6-51a2-4bbb-95da-ba5cd56697f2"
      },
      "execution_count": null,
      "outputs": [
        {
          "output_type": "execute_result",
          "data": {
            "text/plain": [
              "<matplotlib.image.AxesImage at 0x7faf41c27b50>"
            ]
          },
          "metadata": {},
          "execution_count": 7
        },
        {
          "output_type": "display_data",
          "data": {
            "text/plain": [
              "<Figure size 432x288 with 1 Axes>"
            ],
            "image/png": "[encoded data removed]"
          },
          "metadata": {
            "needs_background": "light"
          }
        }
      ]
    },
    {
      "cell_type": "markdown",
      "source": [
        "#5. SAI SỐ"
      ],
      "metadata": {
        "id": "8CyMQnOk56Vn"
      }
    },
    {
      "cell_type": "markdown",
      "source": [
        "Ở đây ta tính sai số của của BGR2Lab của mô hình giữa jit_v2 và parallel_v2"
      ],
      "metadata": {
        "id": "ZeN3hHSDgeLF"
      }
    },
    {
      "cell_type": "code",
      "source": [
        "#@title Sai Số BGR2Lab { display-mode: \"form\" }\n",
        "\n",
        "from numba import cuda,jit\n",
        "import math\n",
        "import numpy as np\n",
        "#cv2\n",
        "img=cv2.imread(\"/content/Dog.JPG\")\n",
        "BRG_2_LAB_CV2=cv2.cvtColor(img, cv2.COLOR_BGR2Lab)\n",
        "@cuda.jit\n",
        "def BGR2Lab_kernel(in_pixels, out_pixels):\n",
        "    col, row = cuda.grid(2)\n",
        "    if row < out_pixels.shape[0] and col < out_pixels.shape[1]:\n",
        "        X = (float(in_pixels[row][col][2]) * 0.412453 + float(in_pixels[row][col][1]) * 0.357580 + float(in_pixels[row][col][0]) * 0.180423)/95.047\n",
        "        Y = (float(in_pixels[row][col][2]) * 0.212671 + float(in_pixels[row][col][1]) * 0.715160 + float(in_pixels[row][col][0]) * 0.072169)/100.000\n",
        "        Z = (float(in_pixels[row][col][2]) * 0.019334 + float(in_pixels[row][col][1]) * 0.119193 + float(in_pixels[row][col][0]) * 0.950227)/108.883\n",
        "        if Y>0.008856:\n",
        "            Y=Y**float(1/3)\n",
        "        else:\n",
        "            Y=(7.787*Y)+16/116\n",
        "        if X>0.008856:\n",
        "            X=X**float(1/3)\n",
        "        else:\n",
        "            X=(7.787*X)+16/116\n",
        "        if Z>0.008856:\n",
        "            Z=Z**float(1/3)\n",
        "        else:\n",
        "            Z=(7.787*Z)+16/116\n",
        "        out_pixels[row][col][0]=116*Y-16\n",
        "        out_pixels[row][col][1]=500*(X-Y)+128\n",
        "        out_pixels[row][col][2]=200*(Y-Z)+128\n",
        "BLOCK_SIZE=[32,32]\n",
        "width=img.shape[1]\n",
        "height=img.shape[0]\n",
        "#initialize grid_size\n",
        "grid_size_x=math.ceil(width/BLOCK_SIZE[0])\n",
        "grid_size_y=math.ceil(height/BLOCK_SIZE[1])\n",
        "grid_size=(grid_size_x,grid_size_y)\n",
        "labImage=np.zeros(img.shape,dtype=np.float64)\n",
        "#COPY DATA TO DEVICE\n",
        "d_Img=cuda.to_device(img)\n",
        "d_labImage=cuda.device_array(labImage.shape, dtype=np.float64)\n",
        "#CALL KERNEL\n",
        "BGR2Lab_kernel[grid_size,BLOCK_SIZE](d_Img,d_labImage)\n",
        "#COPY DATA TO HOST\n",
        "labImage=d_labImage.copy_to_host()\n",
        "@jit(nopython=True, cache=True)\n",
        "def BGR2Lab(in_pixels, out_pixels):\n",
        "    '''\n",
        "    convert color image to Lab\n",
        "    #https://docs.opencv.org/3.4/de/d25/imgproc_color_conversions.html#color_convert_rgb_lab\n",
        "    prams:\n",
        "        in_pixels: input color image\n",
        "        out_pixels: output cielab image\n",
        "    '''\n",
        "    #XYZ_colvolution = np.array([[0.412453, 0.357580, 0.180423],\n",
        "    #                            [0.212671, 0.715160, 0.072169],\n",
        "    #                            [0.019334, 0.119193, 0.950227]])\n",
        "    for row in range(len(in_pixels)):\n",
        "        for col in range(len(in_pixels[0])):\n",
        "            RGB = [float(in_pixels[row][col][2]), float(in_pixels[row][col][1]), float(in_pixels[row][col][0])]\n",
        "\n",
        "            X = (RGB[0] * 0.412453 + RGB[1] * 0.357580 + RGB[2] * 0.180423)/95.047\n",
        "            Y = (RGB[0] * 0.212671 + RGB[1] * 0.715160 + RGB[2] * 0.072169)/100.000\n",
        "            Z = (RGB[0] * 0.019334 + RGB[1] * 0.119193 + RGB[2] * 0.950227)/108.883\n",
        "\n",
        "            if Y>0.008856:\n",
        "                Y=Y**(1/3)\n",
        "            else:\n",
        "                Y=(7.787*Y)+16/116\n",
        "            if X>0.008856:\n",
        "                X=X**(1/3)\n",
        "            else:\n",
        "                X=(7.787*X)+16/116\n",
        "            if Z>0.008856:\n",
        "                Z=Z**(1/3)\n",
        "            else:\n",
        "                Z=(7.787*Z)+16/116\n",
        "            L=116*Y-16\n",
        "            a=500*(X-Y)+128\n",
        "            b=200*(Y-Z)+128\n",
        "            out_pixels[row][col][0]=L\n",
        "            out_pixels[row][col][1]=a\n",
        "            out_pixels[row][col][2]=b\n",
        "labImage_jit=np.zeros(shape=img.shape, dtype=np.float64)\n",
        "BGR2Lab(img,labImage_jit)\n",
        "print(\"Sai số của convert BGR2Lab jit và cuda: \", np.mean(np.abs(labImage_jit-labImage)))"
      ],
      "metadata": {
        "colab": {
          "base_uri": "https://localhost:8080/"
        },
        "id": "GKEoNx6dhRxP",
        "outputId": "7c5814e2-edfa-422d-bb89-bad6b33deaae"
      },
      "execution_count": null,
      "outputs": [
        {
          "output_type": "stream",
          "name": "stdout",
          "text": [
            "Sai số của convert BGR2Lab jit và cuda:  8.339610104105546e-15\n"
          ]
        }
      ]
    },
    {
      "cell_type": "markdown",
      "source": [
        "Đối với output thì qua góc nhìn cảm quan thì ta thấy tất cả mô hình ở phía trên cho kết quả giống nhau"
      ],
      "metadata": {
        "id": "3B0GTE1UjUr3"
      }
    },
    {
      "cell_type": "markdown",
      "source": [
        "#6. TỔNG KẾT QUÁ TRÌNH THỰC NGHIỆM"
      ],
      "metadata": {
        "id": "xojBmFD25BmX"
      }
    },
    {
      "cell_type": "markdown",
      "source": [
        "Đối với Non jit, jit version 1, parallel version 1, jit version 2 sẽ có mục chỉ là ước tính thời gian chạy do thời gian chạy quá lâu. Nó sẽ được đánh dấu *.\n"
      ],
      "metadata": {
        "id": "DN1xANimrwIu"
      }
    },
    {
      "cell_type": "markdown",
      "source": [
        "##6.1. Tổng thời gian chạy thử của các mô hình"
      ],
      "metadata": {
        "id": "jW7LfEFBk8G9"
      }
    },
    {
      "cell_type": "markdown",
      "source": [
        "Chi tiết tại [đây](https://colab.research.google.com/drive/1Uf6rruTo7wDgZ8h47HaaxB5ip1xA8_IR#scrollTo=k4XBjAo4q3G2)  \n",
        "(*Thời gian chạy từng thời điểm khác nhau sẽ khác nhau*)  \n",
        "Đơn vị tính (giây)\n",
        "<table>\n",
        "<thead>\n",
        "<tr>\n",
        "<th>Image</th>\n",
        "<th>Non jit</th>\n",
        "<th>jit version 1</th>\n",
        "<th>parallel version 1</th>\n",
        "<th>jit version 2</th>\n",
        "<th>parallel version 2</th>\n",
        "</tr>\n",
        "</thead>\n",
        "<tbody>\n",
        "<tr>\n",
        "<td>600x455</td>\n",
        "<td>227</td>\n",
        "<td>190</td>\n",
        "<td>190</td>\n",
        "<td>71</td>\n",
        "<td>16</td>\n",
        "</tr>\n",
        "\n",
        "</tbody>\n",
        "</table>"
      ],
      "metadata": {
        "id": "pbx32Ggj6QRT"
      }
    },
    {
      "cell_type": "markdown",
      "source": [
        "Ta có thể thấy sau nhiều lần cải tiến thì parallel version 2 có tốc độ nhanh gấp 14 lần so với ban đầu (non jit)"
      ],
      "metadata": {
        "id": "qxFIxrPQ24Xw"
      }
    },
    {
      "cell_type": "markdown",
      "source": [
        "## 6.2. Thời gian chạy chi tiết"
      ],
      "metadata": {
        "id": "HZUhVJ83lHh9"
      }
    },
    {
      "cell_type": "markdown",
      "source": [
        "### 6.2.1. Chạy thử của các mô hình"
      ],
      "metadata": {
        "id": "84-eM2calaFs"
      }
    },
    {
      "cell_type": "markdown",
      "source": [
        "\n",
        "Kích thước hình ảnh 600x455. Chi tiết quá trình chạy tại [đây](https://colab.research.google.com/drive/1Uf6rruTo7wDgZ8h47HaaxB5ip1xA8_IR#scrollTo=fjyk_lT88Ntf&line=2&uniqifier=1)\n",
        "\n",
        "*Graussian Blur của nonjit sử dụng opencv*  \n",
        "Đơn vị tính (giây) "
      ],
      "metadata": {
        "id": "FIuksRk71MuG"
      }
    },
    {
      "cell_type": "markdown",
      "source": [
        "<table>\n",
        "<thead>\n",
        "    <tr>\n",
        "        <th>Model</th>\n",
        "        <th>Load model</th>\n",
        "        <th>SLIC</th>\n",
        "        <th>Grabcut</th>\n",
        "        <th>Segmentation Mask</th>\n",
        "        <th>Graussian Blur</th>\n",
        "        <th>Merge</th>\n",
        "    </tr>\n",
        "</thead>\n",
        "<tbody>\n",
        "    <tr>\n",
        "        <td>non jit</td>\n",
        "        <td>5.3</td>\n",
        "        <td>229.2</td>\n",
        "        <td>1.53</td>\n",
        "        <td>0.55</td>\n",
        "        <td>0.008*</td>\n",
        "        <td>0.57</td>\n",
        "    </tr>\n",
        "    <tr>\n",
        "        <td>jit_v1</td>\n",
        "        <td>4.3</td>\n",
        "        <td>178.2</td>\n",
        "        <td>1.53</td>\n",
        "        <td>0.3</td>\n",
        "        <td>2.5</td>\n",
        "        <td>0.23</td>\n",
        "    </tr>\n",
        "    <tr>\n",
        "        <td>parallel_v1</td>\n",
        "        <td>4.3</td>\n",
        "        <td>179.1</td>\n",
        "        <td>1.53</td>\n",
        "        <td>0.52</td>\n",
        "        <td>2.65</td>\n",
        "        <td>0.2</td>\n",
        "    </tr>\n",
        "    <tr>\n",
        "        <td>jit_v2</td>\n",
        "        <td>4.3</td>\n",
        "        <td>61.6</td>\n",
        "        <td>1.53</td>\n",
        "        <td>1.15</td>\n",
        "        <td>2.3</td>\n",
        "        <td>0.22</td>\n",
        "    </tr>\n",
        "    <tr>\n",
        "        <td>parallel_v2</td>\n",
        "        <td>4.26</td>\n",
        "        <td>5.45</td>\n",
        "        <td>1.51</td>\n",
        "        <td>1.40</td>\n",
        "        <td>1.02</td>\n",
        "        <td>0.8</td>\n",
        "    </tr>\n",
        "</tbody>\n",
        "</table>"
      ],
      "metadata": {
        "id": "tC_i5ApYpmhU"
      }
    },
    {
      "cell_type": "markdown",
      "source": [
        "### 6.2.2. So sánh thời gian chạy của parallel version 2 và jit version 2 đối với những hình ảnh lớn hơn."
      ],
      "metadata": {
        "id": "zOOGWYkvkm_g"
      }
    },
    {
      "cell_type": "markdown",
      "source": [
        "Chi tiết quá trình chạy tại [đây](https://colab.research.google.com/drive/1Uf6rruTo7wDgZ8h47HaaxB5ip1xA8_IR#scrollTo=Gu7y3bYwCouw&line=1&uniqifier=1)  \n",
        "jit_v2 với ảnh 3268x2488 thời gian xử lý SLIC được dự đoán bằng x10 thời gian chạy hoàn tất 1 vòng lặp*"
      ],
      "metadata": {
        "id": "T2iQLsdkJoLR"
      }
    },
    {
      "cell_type": "markdown",
      "source": [
        "<table>\n",
        "<thead>\n",
        "    <tr>\n",
        "        <th>Model</th>\n",
        "        <th>Size Image</th>\n",
        "        <th>SLIC</th>\n",
        "        <th>Grabcut</th>\n",
        "        <th>Segmentation Mask</th>\n",
        "        <th>Graussian Blur</th>\n",
        "        <th>Merge</th>\n",
        "    </tr>\n",
        "</thead>\n",
        "<tbody>\n",
        "    <tr>\n",
        "        <td>jit_v2</td>\n",
        "        <td>1066x799</td>\n",
        "        <td>592</td>\n",
        "        <td>18</td>\n",
        "        <td>2.46</td>\n",
        "        <td>6.96</td>\n",
        "        <td>0.35</td>\n",
        "    </tr>\n",
        "    <tr>\n",
        "        <td>parallel_v2</td>\n",
        "        <td>1066x799</td>\n",
        "        <td>10.65</td>\n",
        "        <td>18.79</td>\n",
        "        <td>2.81</td>\n",
        "        <td>1.13</td>\n",
        "        <td>0.81</td>\n",
        "    </tr>\n",
        "    <tr>\n",
        "        <td>jit_v2</td>\n",
        "        <td>3268x2488</td>\n",
        "        <td>~24000*</td>\n",
        "        <td>54.26</td>\n",
        "        <td>20.87</td>\n",
        "        <td>70.68</td>\n",
        "        <td>0.77</td>\n",
        "    </tr>\n",
        "    <tr>\n",
        "        <td>parallel_v2</td>\n",
        "        <td>3268x2488</td>\n",
        "        <td>274.99</td>\n",
        "        <td>57.38</td>\n",
        "        <td>21.6</td>\n",
        "        <td>1.48</td>\n",
        "        <td>1.2</td>\n",
        "    </tr>\n",
        "</tbody>\n",
        "</table>"
      ],
      "metadata": {
        "id": "3_fmoKt1IM9A"
      }
    },
    {
      "cell_type": "markdown",
      "source": [
        "Một thử nghiệm khác tính: thời gian chạy của SLIC trong parallel_v2 của hình ảnh 3268x2488 với 16060 superpixels với SLIC trong skimage. Khi đó parallel_v2 chỉ đạt 274.99s, còn skimage.segmentation.slic đạt 124.25s."
      ],
      "metadata": {
        "id": "IRoQqL-_Qdlq"
      }
    },
    {
      "cell_type": "markdown",
      "source": [
        "## 6.3. Hình ảnh thực nghiệm"
      ],
      "metadata": {
        "id": "AW2YHpjBa3IT"
      }
    },
    {
      "cell_type": "markdown",
      "source": [
        "<img src=\"https://raw.githubusercontent.com/kimdinhloc/Applied_Parallel_Programming_HK2_2021_2022/main/output/Dog_output.jpg\" \n",
        "     width=\"400\"  />\n",
        "\n",
        "*REDDIT - https://www.reddit.com/r/dogpictures/comments/6puk20/i_am_speed_because_i_am_speedy/*"
      ],
      "metadata": {
        "id": "acOsnUdma8a5"
      }
    },
    {
      "cell_type": "markdown",
      "source": [
        "<img src=\"https://raw.githubusercontent.com/kimdinhloc/Applied_Parallel_Programming_HK2_2021_2022/main/output/Cow_1_output.jpg\" \n",
        "     width=\"400\"  />\n",
        "     \n",
        "*A image from Cocodataset - https://cocodataset.org/#home*"
      ],
      "metadata": {
        "id": "6HKlMgsUbjTK"
      }
    },
    {
      "cell_type": "markdown",
      "source": [
        "<img src=\"https://raw.githubusercontent.com/kimdinhloc/Applied_Parallel_Programming_HK2_2021_2022/main/output/Cow-bw_output.jpg\" \n",
        "     width=\"400\"  />\n",
        "     \n",
        "*WIKIPEDIA - https://upload.wikimedia.org/wikipedia/commons/0/05/Cow-bw.JPG *"
      ],
      "metadata": {
        "id": "3O0CV82ubkBK"
      }
    },
    {
      "cell_type": "markdown",
      "source": [
        "#7. KINH NGIỆM TÍCH LUỸ TỪ ĐỒ ÁN"
      ],
      "metadata": {
        "id": "LCx3_hWmS1vf"
      }
    },
    {
      "cell_type": "markdown",
      "source": [
        "Mỗi thành viên trong nhóm đã học được những gì từ đồ án"
      ],
      "metadata": {
        "id": "-rh9ftA-S_D-"
      }
    },
    {
      "cell_type": "markdown",
      "source": [
        "**1712898 - TRẦN VIỆT VĂN**"
      ],
      "metadata": {
        "id": "IUwY_itRS90u"
      }
    },
    {
      "cell_type": "markdown",
      "source": [
        "- Sử dụng python và song song hóa ứng dụng để giảm thời gian chạy\n",
        "- Làm việc trong nhóm và sử dụng Git"
      ],
      "metadata": {
        "id": "dROomLayTXJP"
      }
    },
    {
      "cell_type": "markdown",
      "source": [
        "**1712787 - NGUYỄN VĂN THÌN**"
      ],
      "metadata": {
        "id": "KJvzllThS-NH"
      }
    },
    {
      "cell_type": "markdown",
      "source": [
        "- Sử dụng git để quản lý source code và làm việc nhóm dựa trên github.\n",
        "- Song song hoá ứng dụng bằng ngôn ngữ Python bằng cách sử dụng jit."
      ],
      "metadata": {
        "id": "JuaU3wCDTXj-"
      }
    },
    {
      "cell_type": "markdown",
      "source": [
        "**1712568 - KIM ĐÌNH LỘC**"
      ],
      "metadata": {
        "id": "2bL7LfcvS-P3"
      }
    },
    {
      "cell_type": "markdown",
      "source": [
        "- Viết kernel bằng numba.\n",
        "- Xử lý ảnh"
      ],
      "metadata": {
        "id": "bpWiNQ7jTan_"
      }
    },
    {
      "cell_type": "markdown",
      "source": [
        "#TÀI LIỆU HÌNH ẢNH"
      ],
      "metadata": {
        "id": "TvlBUCgRNks-"
      }
    },
    {
      "cell_type": "markdown",
      "source": [
        "WIKIPEDIA - https://upload.wikimedia.org/wikipedia/commons/0/05/Cow-bw.JPG  \n",
        "REDDIT - https://www.reddit.com/r/dogpictures/comments/6puk20/i_am_speed_because_i_am_speedy/  \n",
        "Cocodataset - https://cocodataset.org/#home"
      ],
      "metadata": {
        "id": "FPmAzElrNn_F"
      }
    },
    {
      "cell_type": "markdown",
      "source": [
        "# TÀI LIỆU THAM KHẢO"
      ],
      "metadata": {
        "id": "4Xd0RNiE4Zie"
      }
    },
    {
      "cell_type": "markdown",
      "source": [
        "\"GrabCut\": interactive foreground extraction using iterated graph cuts. [Chi tiết tại đây!](https://cvg.ethz.ch/teaching/cvl/2012/grabcut-siggraph04.pdf)\n"
      ],
      "metadata": {
        "id": "0Sc9o3mLUhoe"
      }
    },
    {
      "cell_type": "markdown",
      "source": [
        "Achanta, Radhakrishna, et al. Slic superpixels. No. REP_WORK. 2010. [Chi tiết tại đây!](https://infoscience.epfl.ch/record/149300)"
      ],
      "metadata": {
        "id": "r5Pck_iy45sz"
      }
    },
    {
      "cell_type": "markdown",
      "source": [
        "Le, Cuong Vo, et al. \"Superpixel-based background removal for accuracy salience person re-identification.\" 2016 IEEE International Conference on Consumer Electronics-Asia (ICCE-Asia). IEEE, 2016. [Chi tiết tại đây!](https://ieeexplore.ieee.org/abstract/document/7804806/)\n",
        "\n"
      ],
      "metadata": {
        "id": "ZYOZQzWt4l96"
      }
    }
  ],
  "metadata": {
    "colab": {
      "collapsed_sections": [],
      "name": "Report.ipynb",
      "provenance": [],
      "toc_visible": true,
      "include_colab_link": true
    },
    "kernelspec": {
      "display_name": "Python 3",
      "name": "python3"
    },
    "language_info": {
      "name": "python"
    },
    "gpuClass": "standard",
    "accelerator": "GPU"
  },
  "nbformat": 4,
  "nbformat_minor": 0
}