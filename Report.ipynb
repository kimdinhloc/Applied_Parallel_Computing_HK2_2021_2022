{
  "cells": [
    {
      "cell_type": "markdown",
      "metadata": {
        "id": "view-in-github",
        "colab_type": "text"
      },
      "source": [
        "<a href=\"https://colab.research.google.com/github/kimdinhloc/Applied_Parallel_Programming_HK2_2021_2022/blob/main/Report.ipynb\" target=\"_parent\"><img src=\"https://colab.research.google.com/assets/colab-badge.svg\" alt=\"Open In Colab\"/></a>"
      ]
    },
    {
      "cell_type": "markdown",
      "metadata": {
        "id": "WP_WWlQ4Os7H"
      },
      "source": [
        "# **Đồ án Lập trình song song ứng dụng**\n",
        "\n",
        "# Xoá background dựa trên ứng dụng segmentation của SLIC\n",
        "\n",
        "## Giáo viên: Trần Trung Kiên\n",
        "\n",
        "### Sinh viên:\n",
        "- 1712568\tKIM ĐÌNH LỘC\t\n",
        "- 1712787\tNGUYỄN VĂN THÌN\t\n",
        "- 1712898\tTRẦN VIỆT VĂN\t\n"
      ]
    },
    {
      "cell_type": "markdown",
      "metadata": {
        "id": "NAdjw0tfPN_O"
      },
      "source": [
        "#1 MÔ TẢ ỨNG DỤNG"
      ]
    },
    {
      "cell_type": "markdown",
      "metadata": {
        "id": "EMUBooq1PMlF"
      },
      "source": [
        "**Ứng dụng mà nhóm chọn là Xoá background dựa trên ứng dụng segmentation của SLIC**.  \n",
        "- Input: Một tấm ảnh RGB.\n",
        "  \n",
        "  <img src=\"https://raw.githubusercontent.com/kimdinhloc/Applied_Parallel_Programming_HK2_2021_2022/main/dataset/Test10_15990.jpg\" \n",
        "     width=\"640\" \n",
        "     height=\"360\" />"
      ]
    },
    {
      "cell_type": "markdown",
      "source": [
        "- Output: Ảnh đầu vào được xác định object, segmentation và remove background.  \n",
        "<img src=\"https://raw.githubusercontent.com/kimdinhloc/dataset/main/Untitled.png\" \n",
        "     width=\"165\" \n",
        "     height=\"294\" />\n"
      ],
      "metadata": {
        "id": "ZATLI0N_1p8C"
      }
    },
    {
      "cell_type": "markdown",
      "metadata": {
        "id": "BoNknrviQJQW"
      },
      "source": [
        "- Ý nghĩa của ứng dụng:\n",
        "  - Hỗ trợ tách/lọc nền trong việc chỉnh sửa ảnh.\n",
        "  - Là bước quan trọng trong các hệ thống sử dụng nhận diện vật thể.\n",
        "  - Nghiên cứu về segmentation cũng như nghiên cứu về SLIC trong việc xoá nền ảnh.\n",
        "- Lý do cần tăng tốc ứng dụng:\n",
        "\t- Ứng dụng sẽ chạy rất chậm nếu cài đặt tuần tự\n",
        "\t- Nhu cầu xử lý dữ liệu lớn, ảnh có độ phân giải cao hay việc xử lý theo thời gian thực\n",
        "- Tiềm năng song song hóa của ứng dụng: \n",
        "  - Song song hoá việc chuyển từ hệ màu RGB sang hệ màu CELAB\n",
        "  - Thực hiện đồng thời quá trình khởi tạo các cụm của SLIC.\n",
        "  - Thực hiện đồng thời quá trình tính từ trung tâm cụm đến từng pixel trong vùng.\n",
        "  - Thực hiện đồng thời quá trình tích chập trong edge detection.\n",
        "- Thách thức:\n",
        "  - Quá trình song song hoá việc kết nối các pixel trong SLIC có thể là một việc khó khăn.\n",
        "  - Không thể song song hoá connected component labeling\n",
        "  - Thời gian xử lý lâu hơn so với model Machine Learning/deep learning.\n",
        "  - Độ chính xác không cao so với machine learning/deep learning.\n",
        "  - Ít bài báo có chủ đề về việc lấy superpixels để thực hiện remove background hoặc tương tự.\n",
        "  - Ít bài báo có chủ đề về việc lấy edge detections để hạn chế khả năng segmentation lỗi của superpixels"
      ]
    },
    {
      "cell_type": "markdown",
      "source": [
        "#2 CÀI ĐẶT TUẦN TỰ"
      ],
      "metadata": {
        "id": "wvPMm4qrEB4S"
      }
    },
    {
      "cell_type": "markdown",
      "metadata": {
        "id": "oBZyFvkhfn3L"
      },
      "source": [
        "##2.1 Thiết kế mô hình"
      ]
    },
    {
      "cell_type": "markdown",
      "source": [
        "<img src=\"https://raw.githubusercontent.com/kimdinhloc/dataset/main/PARALELL_PROGRAMING.jpg\" \n",
        "     width=\"640\" \n",
        "     height=\"360\" />"
      ],
      "metadata": {
        "id": "ggds0YRYCC30"
      }
    },
    {
      "cell_type": "markdown",
      "source": [
        "## **HƯỚNG ĐI TUẦN TIẾP THEO**\n",
        "- Tiếp cận phương pháp \n",
        "- Hoàn thiện code ở host\n",
        "- Cố gắng có thể hoàn thành phần parallel của superpixels và objects detection.\n"
      ],
      "metadata": {
        "id": "vAkv8zkI6Qva"
      }
    },
    {
      "cell_type": "markdown",
      "source": [
        "## 2.2 Thử nghiệm"
      ],
      "metadata": {
        "id": "NEts-l_bEjM8"
      }
    },
    {
      "cell_type": "markdown",
      "source": [
        ""
      ],
      "metadata": {
        "id": "WtVa-7AvJAoG"
      }
    },
    {
      "cell_type": "markdown",
      "source": [
        "#3 CÀI ĐẶT SONG SONG"
      ],
      "metadata": {
        "id": "j8GZUHwjEu6M"
      }
    },
    {
      "cell_type": "markdown",
      "source": [
        "## 3.1 Mô hình song song hoá"
      ],
      "metadata": {
        "id": "NtGuJiyRKvTV"
      }
    },
    {
      "cell_type": "markdown",
      "source": [
        ""
      ],
      "metadata": {
        "id": "7goiv1pnK1m9"
      }
    },
    {
      "cell_type": "markdown",
      "source": [
        "## 3.2 Song Song hoá quá trình gom cụm của SLIC Superpixels"
      ],
      "metadata": {
        "id": "KJGNSzX6J9MO"
      }
    },
    {
      "cell_type": "markdown",
      "source": [
        "<img src=\"https://raw.githubusercontent.com/kimdinhloc/dataset/main/IMG/PARALELL_PROGRAMING/Slide2.JPG\" \n",
        "     width=\"640\" \n",
        "     height=\"360\" />"
      ],
      "metadata": {
        "id": "xiaQU65uJqyH"
      }
    },
    {
      "cell_type": "markdown",
      "source": [
        "## 3.2 Objects detection sử dụng bằng phương pháp ghép 2 phương pháp nhận diện biên cạnh."
      ],
      "metadata": {
        "id": "gw4qRQ0tKCA2"
      }
    },
    {
      "cell_type": "markdown",
      "source": [
        "<img src=\"https://raw.githubusercontent.com/kimdinhloc/dataset/main/IMG/PARALELL_PROGRAMING/Slide3.JPG\" \n",
        "     width=\"640\" \n",
        "     height=\"360\" />"
      ],
      "metadata": {
        "id": "obNrnPwOJy51"
      }
    },
    {
      "cell_type": "markdown",
      "source": [
        ""
      ],
      "metadata": {
        "id": "iFo9IHAaJqvd"
      }
    },
    {
      "cell_type": "markdown",
      "source": [
        "# TÀI LIỆU THAM KHẢO"
      ],
      "metadata": {
        "id": "4Xd0RNiE4Zie"
      }
    },
    {
      "cell_type": "markdown",
      "source": [
        "Achanta, Radhakrishna, et al. Slic superpixels. No. REP_WORK. 2010. [Chi tiết tại đây!](https://infoscience.epfl.ch/record/149300)"
      ],
      "metadata": {
        "id": "r5Pck_iy45sz"
      }
    },
    {
      "cell_type": "markdown",
      "source": [
        "Le, Cuong Vo, et al. \"Superpixel-based background removal for accuracy salience person re-identification.\" 2016 IEEE International Conference on Consumer Electronics-Asia (ICCE-Asia). IEEE, 2016. [Chi tiết tại đây!](https://ieeexplore.ieee.org/abstract/document/7804806/)\n",
        "\n"
      ],
      "metadata": {
        "id": "ZYOZQzWt4l96"
      }
    },
    {
      "cell_type": "markdown",
      "source": [
        "Chaibou, Mahaman Sani, et al. \"Adaptive strategy for superpixel-based region-growing image segmentation.\" Journal of Electronic Imaging 26.6 (2017): 061605. [Chi tiết tại đây!](https://arxiv.org/pdf/1803.06541.pdf)"
      ],
      "metadata": {
        "id": "aDWZWYVa5ZYz"
      }
    },
    {
      "cell_type": "markdown",
      "source": [
        "John Canny. A computational approach to edge detection. Pattern Analysis and Machine Intelligence, IEEE Transactions on, (6):679–698, 1986. [Chi tiết tại đây!](https://canvas.stanford.edu/courses/98045/files/4183084/download?verifier=af00LZDbnDaaTurZAWvWhzOtJraLfk8DZsQqwuOy&wrap=1)"
      ],
      "metadata": {
        "id": "CYf7ObpG6s5K"
      }
    }
  ],
  "metadata": {
    "colab": {
      "collapsed_sections": [],
      "name": "Report.ipynb",
      "provenance": [],
      "include_colab_link": true
    },
    "kernelspec": {
      "display_name": "Python 3",
      "name": "python3"
    },
    "language_info": {
      "name": "python"
    }
  },
  "nbformat": 4,
  "nbformat_minor": 0
}