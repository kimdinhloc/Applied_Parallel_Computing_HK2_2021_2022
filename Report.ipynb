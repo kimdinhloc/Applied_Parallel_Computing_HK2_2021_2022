{
  "cells": [
    {
      "cell_type": "markdown",
      "metadata": {
        "id": "view-in-github",
        "colab_type": "text"
      },
      "source": [
        "<a href=\"https://colab.research.google.com/github/kimdinhloc/Applied_Parallel_Programming_HK2_2021_2022/blob/main/Report.ipynb\" target=\"_parent\"><img src=\"https://colab.research.google.com/assets/colab-badge.svg\" alt=\"Open In Colab\"/></a>"
      ]
    },
    {
      "cell_type": "markdown",
      "metadata": {
        "id": "WP_WWlQ4Os7H"
      },
      "source": [
        "# **ĐỒ ÁN LẬP TRÌNH SONG SONG ỨNG DỤNG**\n",
        "\n",
        "# Xoá background dựa trên Superpixel segmentation và Grabcut\n",
        "\n",
        "## Giáo viên: Trần Trung Kiên\n",
        "\n",
        "### Sinh viên:\n",
        "- 1712568\tKIM ĐÌNH LỘC\t\n",
        "- 1712787\tNGUYỄN VĂN THÌN\t\n",
        "- 1712898\tTRẦN VIỆT VĂN\t\n"
      ]
    },
    {
      "cell_type": "markdown",
      "source": [
        "# 0. Ý NGHĨA TỪ NGỮ"
      ],
      "metadata": {
        "id": "fpB1zan-5aT_"
      }
    },
    {
      "cell_type": "markdown",
      "source": [
        "**Superpixel** là kết quả của việc nhóm các pixel theo cảm nhận màu sắc, hoặc theo cách nhìn khác, đó là kết quả của sự phân đoạn hình ảnh.([Tu-chemnitz.de. 2022. Superpixel | TU Chemnitz](https://www.tu-chemnitz.de/etit/proaut/en/research/superpixel.html))\n",
        "\n",
        "\n",
        "**Superpixel segmentation** là quá trình phân đoạn hình ảnh thành nhiều superpixels."
      ],
      "metadata": {
        "id": "xSTA5loR5h3g"
      }
    },
    {
      "cell_type": "markdown",
      "source": [
        " <img src=\"https://raw.githubusercontent.com/kimdinhloc/Applied_Parallel_Programming_HK2_2021_2022/main/Illustrated%20image/Dog_SLIC.jpg\" \n",
        "     width=\"640\" \n",
        "     height=\"455\" />\n",
        "\n"
      ],
      "metadata": {
        "id": "L8tnPXRC8Cvf"
      }
    },
    {
      "cell_type": "markdown",
      "source": [
        "GrabCut là phương pháp để phân đoạn một cách chính xác tiền cảnh của hình ảnh khỏi hậu cảnh."
      ],
      "metadata": {
        "id": "8RaD_2kc804e"
      }
    },
    {
      "cell_type": "markdown",
      "source": [
        ""
      ],
      "metadata": {
        "id": "c1wDArjZ_b7_"
      }
    },
    {
      "cell_type": "markdown",
      "metadata": {
        "id": "NAdjw0tfPN_O"
      },
      "source": [
        "#1 MÔ TẢ ỨNG DỤNG"
      ]
    },
    {
      "cell_type": "markdown",
      "metadata": {
        "id": "EMUBooq1PMlF"
      },
      "source": [
        "**Ứng dụng mà nhóm chọn là Xoá background dựa trên ứng dụng segmentation của SLIC**.  \n",
        "- Input: Một tấm ảnh RGB, mô hình yolov3\n",
        "  \n",
        "  <img src=\"https://raw.githubusercontent.com/kimdinhloc/Applied_Parallel_Programming_HK2_2021_2022/main/Illustrated%20image/Dog.JPG\" \n",
        "     width=\"640\" \n",
        "     height=\"455\" />"
      ]
    },
    {
      "cell_type": "markdown",
      "source": [
        "- Output: Ảnh đầu vào được remove background.  \n",
        "<img src=\"https://raw.githubusercontent.com/kimdinhloc/Applied_Parallel_Programming_HK2_2021_2022/main/Illustrated%20image/Dog_output.jpg\" \n",
        "     width=\"640\" \n",
        "     height=\"455\" />\n"
      ],
      "metadata": {
        "id": "ZATLI0N_1p8C"
      }
    },
    {
      "cell_type": "markdown",
      "metadata": {
        "id": "BoNknrviQJQW"
      },
      "source": [
        "- Ý nghĩa của ứng dụng:\n",
        "  - Hỗ trợ tách/lọc nền trong việc chỉnh sửa ảnh.\n",
        "  - Nghiên cứu về segmentation việc xoá background.\n",
        "  - Giảmđộ phức tạp của các bước xử lý ảnh tiếp theo.\n",
        "- Lý do cần tăng tốc ứng dụng:\n",
        "\t- Ứng dụng sẽ chạy chậm nếu cài đặt tuần tự.\n",
        "\t- Nhu cầu xử lý dữ liệu lớn, ảnh có độ phân giải cao hay việc xử lý theo thời gian thực\n",
        "- Tiềm năng song song hóa của ứng dụng: \n",
        "  - Song song hoá việc chuyển từ hệ màu RGB sang hệ màu CELAB\n",
        "  - Thực hiện đồng thời quá trình khởi tạo các cụm của SLIC.\n",
        "  - Thực hiện đồng thời quá trình tính từ trung tâm cụm đến từng pixel trong vùng.\n",
        "  - Thực hiện song song hoá quá trình xử lý hình ảnh\n",
        "- Thách thức:\n",
        "  - Quá trình song song hoá việc kết nối các pixel trong SLIC có thể là một việc khó khăn.\n",
        "  - Việc song song hoá mô hình GRABCUT của OpenCV rất khó khăn.\n",
        "  - Thời gian xử lý lâu hơn so với model Machine Learning/deep learning.\n",
        "  - Độ chính xác không cao so với deep learning."
      ]
    },
    {
      "cell_type": "markdown",
      "source": [
        "#2 CÀI ĐẶT TUẦN TỰ"
      ],
      "metadata": {
        "id": "wvPMm4qrEB4S"
      }
    },
    {
      "cell_type": "markdown",
      "metadata": {
        "id": "oBZyFvkhfn3L"
      },
      "source": [
        "##2.1 Thiết kế mô hình"
      ]
    },
    {
      "cell_type": "markdown",
      "source": [
        "Ở đây chúng ta sẽ sử dụng mô hình "
      ],
      "metadata": {
        "id": "rOq25fXRdQb-"
      }
    },
    {
      "cell_type": "markdown",
      "source": [
        "<img src=\"https://raw.githubusercontent.com/kimdinhloc/Applied_Parallel_Programming_HK2_2021_2022/main/Illustrated%20image/HOST.JPG\" \n",
        "     width=\"1152\" \n",
        "     height=\"360\" />"
      ],
      "metadata": {
        "id": "ggds0YRYCC30"
      }
    },
    {
      "cell_type": "markdown",
      "source": [
        "## 2.2 Thử nghiệm"
      ],
      "metadata": {
        "id": "NEts-l_bEjM8"
      }
    },
    {
      "cell_type": "code",
      "source": [
        "!wget https://pjreddie.com/media/files/yolov3.weights\n",
        "!wget https://raw.githubusercontent.com/pjreddie/darknet/master/cfg/yolov3.cfg\n",
        "!wget https://raw.githubusercontent.com/pjreddie/darknet/master/data/coco.names\n",
        "!wget https://raw.githubusercontent.com/kimdinhloc/Applied_Parallel_Programming_HK2_2021_2022/main/Illustrated%20image/Dog.JPG\n",
        "!wget https://raw.githubusercontent.com/kimdinhloc/Applied_Parallel_Programming_HK2_2021_2022/main/src/sequential.py\n",
        "!wget https://upload.wikimedia.org/wikipedia/commons/0/05/Cow-bw.JPG"
      ],
      "metadata": {
        "colab": {
          "base_uri": "https://localhost:8080/"
        },
        "id": "_kpNnLq4KcOS",
        "outputId": "f02fecb5-000d-4196-863e-8c1b052abd1c"
      },
      "execution_count": null,
      "outputs": [
        {
          "output_type": "stream",
          "name": "stdout",
          "text": [
            "--2022-05-11 13:29:30--  https://pjreddie.com/media/files/yolov3.weights\n",
            "Resolving pjreddie.com (pjreddie.com)... 128.208.4.108\n",
            "Connecting to pjreddie.com (pjreddie.com)|128.208.4.108|:443... connected.\n",
            "HTTP request sent, awaiting response... 200 OK\n",
            "Length: 248007048 (237M) [application/octet-stream]\n",
            "Saving to: ‘yolov3.weights.1’\n",
            "\n",
            "yolov3.weights.1    100%[===================>] 236.52M  45.7MB/s    in 5.8s    \n",
            "\n",
            "2022-05-11 13:29:36 (40.9 MB/s) - ‘yolov3.weights.1’ saved [248007048/248007048]\n",
            "\n",
            "--2022-05-11 13:29:36--  https://raw.githubusercontent.com/pjreddie/darknet/master/cfg/yolov3.cfg\n",
            "Resolving raw.githubusercontent.com (raw.githubusercontent.com)... 185.199.108.133, 185.199.109.133, 185.199.110.133, ...\n",
            "Connecting to raw.githubusercontent.com (raw.githubusercontent.com)|185.199.108.133|:443... connected.\n",
            "HTTP request sent, awaiting response... 200 OK\n",
            "Length: 8342 (8.1K) [text/plain]\n",
            "Saving to: ‘yolov3.cfg.1’\n",
            "\n",
            "yolov3.cfg.1        100%[===================>]   8.15K  --.-KB/s    in 0s      \n",
            "\n",
            "2022-05-11 13:29:36 (87.8 MB/s) - ‘yolov3.cfg.1’ saved [8342/8342]\n",
            "\n",
            "--2022-05-11 13:29:36--  https://raw.githubusercontent.com/pjreddie/darknet/master/data/coco.names\n",
            "Resolving raw.githubusercontent.com (raw.githubusercontent.com)... 185.199.108.133, 185.199.109.133, 185.199.110.133, ...\n",
            "Connecting to raw.githubusercontent.com (raw.githubusercontent.com)|185.199.108.133|:443... connected.\n",
            "HTTP request sent, awaiting response... 200 OK\n",
            "Length: 625 [text/plain]\n",
            "Saving to: ‘coco.names.1’\n",
            "\n",
            "coco.names.1        100%[===================>]     625  --.-KB/s    in 0s      \n",
            "\n",
            "2022-05-11 13:29:36 (46.7 MB/s) - ‘coco.names.1’ saved [625/625]\n",
            "\n",
            "--2022-05-11 13:29:36--  https://raw.githubusercontent.com/kimdinhloc/Applied_Parallel_Programming_HK2_2021_2022/main/Illustrated%20image/Dog.JPG\n",
            "Resolving raw.githubusercontent.com (raw.githubusercontent.com)... 185.199.108.133, 185.199.109.133, 185.199.110.133, ...\n",
            "Connecting to raw.githubusercontent.com (raw.githubusercontent.com)|185.199.108.133|:443... connected.\n",
            "HTTP request sent, awaiting response... 200 OK\n",
            "Length: 15302 (15K) [image/jpeg]\n",
            "Saving to: ‘Dog.JPG’\n",
            "\n",
            "Dog.JPG             100%[===================>]  14.94K  --.-KB/s    in 0s      \n",
            "\n",
            "2022-05-11 13:29:36 (108 MB/s) - ‘Dog.JPG’ saved [15302/15302]\n",
            "\n",
            "--2022-05-11 13:29:36--  https://raw.githubusercontent.com/kimdinhloc/Applied_Parallel_Programming_HK2_2021_2022/main/src/sequential.py\n",
            "Resolving raw.githubusercontent.com (raw.githubusercontent.com)... 185.199.108.133, 185.199.109.133, 185.199.110.133, ...\n",
            "Connecting to raw.githubusercontent.com (raw.githubusercontent.com)|185.199.108.133|:443... connected.\n",
            "HTTP request sent, awaiting response... 200 OK\n",
            "Length: 15413 (15K) [text/plain]\n",
            "Saving to: ‘sequential.py.1’\n",
            "\n",
            "sequential.py.1     100%[===================>]  15.05K  --.-KB/s    in 0s      \n",
            "\n",
            "2022-05-11 13:29:36 (95.8 MB/s) - ‘sequential.py.1’ saved [15413/15413]\n",
            "\n",
            "--2022-05-11 13:29:36--  https://upload.wikimedia.org/wikipedia/commons/0/05/Cow-bw.JPG\n",
            "Resolving upload.wikimedia.org (upload.wikimedia.org)... 208.80.154.240, 2620:0:862:ed1a::2:b\n",
            "Connecting to upload.wikimedia.org (upload.wikimedia.org)|208.80.154.240|:443... connected.\n",
            "HTTP request sent, awaiting response... 200 OK\n",
            "Length: 5595095 (5.3M) [image/jpeg]\n",
            "Saving to: ‘Cow-bw.JPG.1’\n",
            "\n",
            "Cow-bw.JPG.1        100%[===================>]   5.33M  29.2MB/s    in 0.2s    \n",
            "\n",
            "2022-05-11 13:29:36 (29.2 MB/s) - ‘Cow-bw.JPG.1’ saved [5595095/5595095]\n",
            "\n"
          ]
        }
      ]
    },
    {
      "cell_type": "code",
      "source": [
        "%%time\n",
        "!python sequential.py /content/Dog.JPG"
      ],
      "metadata": {
        "id": "va_uZSJfc6QW",
        "colab": {
          "base_uri": "https://localhost:8080/"
        },
        "outputId": "997dd26d-6f02-45fb-8576-060b10b48d51"
      },
      "execution_count": null,
      "outputs": [
        {
          "output_type": "stream",
          "name": "stdout",
          "text": [
            "CPU times: user 1.86 s, sys: 268 ms, total: 2.13 s\n",
            "Wall time: 4min 28s\n"
          ]
        }
      ]
    },
    {
      "cell_type": "markdown",
      "source": [
        ""
      ],
      "metadata": {
        "id": "q9g1eMjJiCBA"
      }
    },
    {
      "cell_type": "markdown",
      "source": [
        "#3 CÀI ĐẶT SONG SONG"
      ],
      "metadata": {
        "id": "j8GZUHwjEu6M"
      }
    },
    {
      "cell_type": "markdown",
      "source": [
        "## 3.1 Mô hình song song hoá dự kiến"
      ],
      "metadata": {
        "id": "NtGuJiyRKvTV"
      }
    },
    {
      "cell_type": "markdown",
      "source": [
        "<img src=\"https://raw.githubusercontent.com/kimdinhloc/Applied_Parallel_Programming_HK2_2021_2022/main/Illustrated%20image/DEVICE.JPG\" \n",
        "     width=\"1152\" \n",
        "     height=\"360\" />"
      ],
      "metadata": {
        "id": "jiz3ZQnS2ki8"
      }
    },
    {
      "cell_type": "markdown",
      "source": [
        "# TÀI LIỆU THAM KHẢO"
      ],
      "metadata": {
        "id": "4Xd0RNiE4Zie"
      }
    },
    {
      "cell_type": "markdown",
      "source": [
        "Grabcut https://cvg.ethz.ch/teaching/cvl/2012/grabcut-siggraph04.pdf"
      ],
      "metadata": {
        "id": "0Sc9o3mLUhoe"
      }
    },
    {
      "cell_type": "markdown",
      "source": [
        "Ảnh minh hoạ bởi: https://www.reddit.com/r/dogpictures/comments/6puk20/i_am_speed_because_i_am_speedy/"
      ],
      "metadata": {
        "id": "_sSov7srSCL0"
      }
    },
    {
      "cell_type": "markdown",
      "source": [
        "Achanta, Radhakrishna, et al. Slic superpixels. No. REP_WORK. 2010. [Chi tiết tại đây!](https://infoscience.epfl.ch/record/149300)"
      ],
      "metadata": {
        "id": "r5Pck_iy45sz"
      }
    },
    {
      "cell_type": "markdown",
      "source": [
        "Le, Cuong Vo, et al. \"Superpixel-based background removal for accuracy salience person re-identification.\" 2016 IEEE International Conference on Consumer Electronics-Asia (ICCE-Asia). IEEE, 2016. [Chi tiết tại đây!](https://ieeexplore.ieee.org/abstract/document/7804806/)\n",
        "\n"
      ],
      "metadata": {
        "id": "ZYOZQzWt4l96"
      }
    }
  ],
  "metadata": {
    "colab": {
      "collapsed_sections": [],
      "name": "Report.ipynb",
      "provenance": [],
      "include_colab_link": true
    },
    "kernelspec": {
      "display_name": "Python 3",
      "name": "python3"
    },
    "language_info": {
      "name": "python"
    }
  },
  "nbformat": 4,
  "nbformat_minor": 0
}