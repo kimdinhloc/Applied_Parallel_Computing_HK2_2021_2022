{
  "cells": [
    {
      "cell_type": "markdown",
      "metadata": {
        "id": "view-in-github",
        "colab_type": "text"
      },
      "source": [
        "<a href=\"https://colab.research.google.com/github/kimdinhloc/Applied_Parallel_Programming_HK2_2021_2022/blob/main/Report.ipynb\" target=\"_parent\"><img src=\"https://colab.research.google.com/assets/colab-badge.svg\" alt=\"Open In Colab\"/></a>"
      ]
    },
    {
      "cell_type": "markdown",
      "metadata": {
        "id": "WP_WWlQ4Os7H"
      },
      "source": [
        "# **ĐỒ ÁN LẬP TRÌNH SONG SONG ỨNG DỤNG**\n",
        "\n",
        "# BACKGROUND REMOVAL WITH GRABCUT AND SUPERPIXELS\n",
        "\n",
        "## Giáo viên: Trần Trung Kiên\n",
        "\n",
        "### Sinh viên:\n",
        "- 1712568\tKIM ĐÌNH LỘC\t\n",
        "- 1712787\tNGUYỄN VĂN THÌN\t\n",
        "- 1712898\tTRẦN VIỆT VĂN\t\n"
      ]
    },
    {
      "cell_type": "markdown",
      "source": [
        "#0. Ý NGHĨA TỪ NGỮ"
      ],
      "metadata": {
        "id": "fpB1zan-5aT_"
      }
    },
    {
      "cell_type": "markdown",
      "source": [
        "**GrabCut** là phương pháp để phân đoạn một cách chính xác tiền cảnh của hình ảnh khỏi hậu cảnh."
      ],
      "metadata": {
        "id": "mLprXRtqRclG"
      }
    },
    {
      "cell_type": "markdown",
      "source": [
        "**Superpixel** là kết quả của việc nhóm các pixel theo cảm nhận màu sắc, hoặc theo cách nhìn khác, đó là kết quả của sự phân đoạn hình ảnh.([Tu-chemnitz.de. 2022. Superpixel | TU Chemnitz](https://www.tu-chemnitz.de/etit/proaut/en/research/superpixel.html))\n",
        "\n",
        "\n",
        "**Superpixel segmentation** là quá trình phân đoạn hình ảnh thành nhiều superpixels."
      ],
      "metadata": {
        "id": "xSTA5loR5h3g"
      }
    },
    {
      "cell_type": "markdown",
      "source": [
        " <img src=\"https://raw.githubusercontent.com/kimdinhloc/Applied_Parallel_Programming_HK2_2021_2022/main/Illustrated%20image/Dog_SLIC.jpg\" \n",
        "     width=\"640\" \n",
        "     height=\"455\" />\n",
        "\n"
      ],
      "metadata": {
        "id": "L8tnPXRC8Cvf"
      }
    },
    {
      "cell_type": "markdown",
      "metadata": {
        "id": "NAdjw0tfPN_O"
      },
      "source": [
        "#1. MÔ TẢ ỨNG DỤNG"
      ]
    },
    {
      "cell_type": "markdown",
      "source": [
        "**Ứng dụng mà nhóm chọn là BACKGROUND REMOVAL WITH GRABCUT AND SUPERPIXELS**.  "
      ],
      "metadata": {
        "id": "c7b0Ysc8QulH"
      }
    },
    {
      "cell_type": "markdown",
      "source": [
        "Lý do chọn đề tài:"
      ],
      "metadata": {
        "id": "6QnP_ICVQnfG"
      }
    },
    {
      "cell_type": "markdown",
      "source": [
        "<img src=\"https://raw.githubusercontent.com/kimdinhloc/Applied_Parallel_Programming_HK2_2021_2022/main/Illustrated%20image/compair.jpg.png\" \n",
        "     width=\"1218\" \n",
        "     height=\"300\" />"
      ],
      "metadata": {
        "id": "wvMvY87_Q_OG"
      }
    },
    {
      "cell_type": "markdown",
      "metadata": {
        "id": "EMUBooq1PMlF"
      },
      "source": [
        "**Input:**  \n",
        "Một tấm ảnh RGB, mô hình yolov3\n",
        "  \n",
        "  <img src=\"https://raw.githubusercontent.com/kimdinhloc/Applied_Parallel_Programming_HK2_2021_2022/main/Illustrated%20image/Dog.JPG\" \n",
        "     width=\"640\" \n",
        "     height=\"455\" />"
      ]
    },
    {
      "cell_type": "markdown",
      "source": [
        "**Output**  \n",
        "Ảnh đầu vào được remove background.  \n",
        "<img src=\"https://raw.githubusercontent.com/kimdinhloc/Applied_Parallel_Programming_HK2_2021_2022/main/Illustrated%20image/Dog_output.jpg\" \n",
        "     width=\"640\" \n",
        "     height=\"455\" />\n"
      ],
      "metadata": {
        "id": "ZATLI0N_1p8C"
      }
    },
    {
      "cell_type": "markdown",
      "metadata": {
        "id": "BoNknrviQJQW"
      },
      "source": [
        "- Ý nghĩa của ứng dụng:\n",
        "  - Hỗ trợ tách/lọc nền trong việc chỉnh sửa ảnh.\n",
        "  - Nghiên cứu về segmentation việc xoá background.\n",
        "  - Giảmđộ phức tạp của các bước xử lý ảnh tiếp theo.\n",
        "- Lý do cần tăng tốc ứng dụng:\n",
        "\t- Ứng dụng sẽ chạy chậm nếu cài đặt tuần tự.\n",
        "\t- Nhu cầu xử lý dữ liệu lớn, ảnh có độ phân giải cao hay việc xử lý theo thời gian thực\n",
        "- Tiềm năng song song hóa của ứng dụng: \n",
        "  - Song song hoá việc chuyển từ hệ màu RGB sang hệ màu CELAB\n",
        "  - Thực hiện đồng thời quá trình khởi tạo các cụm của SLIC.\n",
        "  - Thực hiện đồng thời quá trình tính từ trung tâm cụm đến từng pixel trong vùng.\n",
        "  - Thực hiện song song hoá quá trình xử lý hình ảnh\n",
        "- Thách thức:\n",
        "  - Quá trình song song hoá việc kết nối các pixel trong SLIC có thể là một việc khó khăn.\n",
        "  - Việc song song hoá mô hình GRABCUT của OpenCV rất khó khăn.\n",
        "  - Thời gian xử lý lâu hơn so với model Machine Learning/deep learning.\n",
        "  - Độ chính xác không cao so với deep learning."
      ]
    },
    {
      "cell_type": "markdown",
      "source": [
        "#2. QUÁ TRÌNH THỰC HIỆN ĐỒ ÁN"
      ],
      "metadata": {
        "id": "jdbqM8qFxUju"
      }
    },
    {
      "cell_type": "markdown",
      "source": [
        "<img src=\"https://raw.githubusercontent.com/kimdinhloc/Applied_Parallel_Programming_HK2_2021_2022/main/Illustrated%20image/Model/timeline.JPG\" \n",
        "     width=\"1152\" \n",
        "     height=\"360\" />"
      ],
      "metadata": {
        "id": "uqTLK9-88SBa"
      }
    },
    {
      "cell_type": "markdown",
      "source": [
        "#3. CÀI ĐẶT TUẦN TỰ"
      ],
      "metadata": {
        "id": "wvPMm4qrEB4S"
      }
    },
    {
      "cell_type": "markdown",
      "metadata": {
        "id": "oBZyFvkhfn3L"
      },
      "source": [
        "##3.1. Mô hình tuần tự, không jit"
      ]
    },
    {
      "cell_type": "markdown",
      "source": [
        "###3.1.1. Thiết kế"
      ],
      "metadata": {
        "id": "VIRkgDPgzobn"
      }
    },
    {
      "cell_type": "markdown",
      "source": [
        "<img src=\"https://raw.githubusercontent.com/kimdinhloc/Applied_Parallel_Programming_HK2_2021_2022/main/Illustrated%20image/Model/non_jit.JPG\" \n",
        "     width=\"1152\" \n",
        "     height=\"360\" />"
      ],
      "metadata": {
        "id": "ggds0YRYCC30"
      }
    },
    {
      "cell_type": "markdown",
      "source": [
        "### 3.1.2. Thử nghiệm"
      ],
      "metadata": {
        "id": "NEts-l_bEjM8"
      }
    },
    {
      "cell_type": "markdown",
      "source": [
        "Xem chi tiết quá trình thực nghiệm tại [link colab](https://colab.research.google.com/drive/1Uf6rruTo7wDgZ8h47HaaxB5ip1xA8_IR?usp=sharing) tại mục 2. SO SÁNH HIỆU SUẤT TỪNG GIỮA CÁC MÔ HÌNH "
      ],
      "metadata": {
        "id": "qTRaW5IryQYH"
      }
    },
    {
      "cell_type": "markdown",
      "source": [
        "Thời gian thực hiện là 3min 49s"
      ],
      "metadata": {
        "id": "NGyigcTWylcW"
      }
    },
    {
      "cell_type": "markdown",
      "source": [
        "##3.2. Mô hình tuần tự, jit lần 1"
      ],
      "metadata": {
        "id": "AIzjE3RPyApe"
      }
    },
    {
      "cell_type": "markdown",
      "source": [
        "Dựa trên mô hình tuần tự chưa jit, nhóm tiến hành jit các hàm có thể được jit"
      ],
      "metadata": {
        "id": "SLQXuP_I1MOF"
      }
    },
    {
      "cell_type": "markdown",
      "source": [
        "###3.2.1. Thiết kế"
      ],
      "metadata": {
        "id": "XII4s2c60Kux"
      }
    },
    {
      "cell_type": "markdown",
      "source": [
        "<img src=\"https://raw.githubusercontent.com/kimdinhloc/Applied_Parallel_Programming_HK2_2021_2022/main/Illustrated%20image/Model/jit_v1.JPG\" \n",
        "     width=\"1152\" \n",
        "     height=\"360\" />"
      ],
      "metadata": {
        "id": "fne-njbH1ly2"
      }
    },
    {
      "cell_type": "markdown",
      "source": [
        "###3.2.2. Thực nghiệm"
      ],
      "metadata": {
        "id": "xC9LORDY0JBX"
      }
    },
    {
      "cell_type": "markdown",
      "source": [
        "Xem chi tiết quá trình thực nghiệm tại [link colab](https://colab.research.google.com/drive/1Uf6rruTo7wDgZ8h47HaaxB5ip1xA8_IR?usp=sharing) tại mục 2. SO SÁNH HIỆU SUẤT TỪNG GIỮA CÁC MÔ HÌNH "
      ],
      "metadata": {
        "id": "B_kvlTya14zm"
      }
    },
    {
      "cell_type": "markdown",
      "source": [
        "Thời gian thực hiện là 3min 8s"
      ],
      "metadata": {
        "id": "599zHebgy4ru"
      }
    },
    {
      "cell_type": "markdown",
      "source": [
        "Thời gian của @jit giảm khoảng từ 20% so với không sử dụng jit."
      ],
      "metadata": {
        "id": "FtJyMxTzgkwC"
      }
    },
    {
      "cell_type": "markdown",
      "source": [
        "##3.3. Mô hình tuần tự, jit lần 2"
      ],
      "metadata": {
        "id": "IYxS3VwVz-2I"
      }
    },
    {
      "cell_type": "markdown",
      "source": [
        "Mô hình tuần tự và jit lần thứ 2 dựa trên kinh nghiệm của việc jit lần 1, sự khó khăn của code khi song song quá lần 1 gặp nhiều vướng mắc, khó khăn.  \n",
        "Từ đó, nhóm quyết định code mô hình tuần tự, jit lần 2 để giải quyết các khó khăn đồng thời tạo nền tảng tốt hơn đến việc song song hoá lần 2"
      ],
      "metadata": {
        "id": "5waPzkKT0in2"
      }
    },
    {
      "cell_type": "markdown",
      "source": [
        "###3.3.1. Thiết kế"
      ],
      "metadata": {
        "id": "CIwwJwk20bHH"
      }
    },
    {
      "cell_type": "markdown",
      "source": [
        "<img src=\"https://raw.githubusercontent.com/kimdinhloc/Applied_Parallel_Programming_HK2_2021_2022/main/Illustrated%20image/Model/jit_v2_1.JPG\" \n",
        "     width=\"1152\" \n",
        "     height=\"360\" />"
      ],
      "metadata": {
        "id": "itK83HNt0bDu"
      }
    },
    {
      "cell_type": "markdown",
      "source": [
        "<img src=\"https://raw.githubusercontent.com/kimdinhloc/Applied_Parallel_Programming_HK2_2021_2022/main/Illustrated%20image/Model/jit_v2_2.JPG\" \n",
        "     width=\"1152\" \n",
        "     height=\"360\" />"
      ],
      "metadata": {
        "id": "1_WiDBzQLi0K"
      }
    },
    {
      "cell_type": "markdown",
      "source": [
        "###3.3.2. Thực nghiiệm"
      ],
      "metadata": {
        "id": "__NSyLi-0bAp"
      }
    },
    {
      "cell_type": "markdown",
      "source": [
        "Xem chi tiết quá trình thực nghiệm tại [link colab](https://colab.research.google.com/drive/1Uf6rruTo7wDgZ8h47HaaxB5ip1xA8_IR?usp=sharing) tại mục 2. SO SÁNH HIỆU SUẤT TỪNG GIỮA CÁC MÔ HÌNH "
      ],
      "metadata": {
        "id": "ttA6Yq7817TO"
      }
    },
    {
      "cell_type": "markdown",
      "source": [
        "Thời gian thực hiện 1min 12s"
      ],
      "metadata": {
        "id": "cJjhy0MZ0iAe"
      }
    },
    {
      "cell_type": "markdown",
      "source": [
        "Việc tối ưu cũng như jit lần 2 khiến cho mô hình giảm thời gian rất nhiều so với lần 1 và chưa jit, cụ thể:\n",
        "- Giảm thời gian chỉ còn 38.29% so với jit lần 1 (Tức là nhanh hơn 2.61 lần so với jit lần 1)\n",
        "- Giảm thời gian chỉ còn 32.43% so với chưa jit (Tức là nhanh hơn 3.08 lần so với chưa jit)"
      ],
      "metadata": {
        "id": "thpvgBHD2Iq5"
      }
    },
    {
      "cell_type": "markdown",
      "source": [
        "#4. CÀI ĐẶT SONG SONG"
      ],
      "metadata": {
        "id": "j8GZUHwjEu6M"
      }
    },
    {
      "cell_type": "markdown",
      "source": [
        "##4.1. Song song hoá lần 1"
      ],
      "metadata": {
        "id": "aHC-gW8m3CaV"
      }
    },
    {
      "cell_type": "markdown",
      "source": [
        "###4.1.1. Thiết kế"
      ],
      "metadata": {
        "id": "jQZUPQcg3HJd"
      }
    },
    {
      "cell_type": "markdown",
      "source": [
        "Mô hình được thiết kế theo sự kế thừa của mô hình tuần tự jit lần 1"
      ],
      "metadata": {
        "id": "Cu9ptGRU3Q1u"
      }
    },
    {
      "cell_type": "markdown",
      "source": [
        "<img src=\"https://raw.githubusercontent.com/kimdinhloc/Applied_Parallel_Programming_HK2_2021_2022/main/Illustrated%20image/Model/parallel_v1.JPG\" \n",
        "     width=\"1152\" \n",
        "     height=\"360\" />"
      ],
      "metadata": {
        "id": "YwRPPtDkewIz"
      }
    },
    {
      "cell_type": "markdown",
      "source": [
        "###4.1.2. Thực nghiệm"
      ],
      "metadata": {
        "id": "E-1d-8X73k7G"
      }
    },
    {
      "cell_type": "markdown",
      "source": [
        "Xem chi tiết quá trình thực nghiệm tại [link colab](https://colab.research.google.com/drive/1Uf6rruTo7wDgZ8h47HaaxB5ip1xA8_IR?usp=sharing) tại mục 2. SO SÁNH HIỆU SUẤT TỪNG GIỮA CÁC MÔ HÌNH "
      ],
      "metadata": {
        "id": "gtgyDVhX3qWP"
      }
    },
    {
      "cell_type": "markdown",
      "source": [
        "Thời gian thực nghiệm 3min 7s"
      ],
      "metadata": {
        "id": "DP9oewvr3sEm"
      }
    },
    {
      "cell_type": "markdown",
      "source": [
        "Thời gian @cuda.jit giảm 48 giây so với không sử dụng jit.\n",
        "Thời gian @cuda.jit giảm 1 giây so với jit lần 1."
      ],
      "metadata": {
        "id": "ET06qYtAf5Qa"
      }
    },
    {
      "cell_type": "markdown",
      "source": [
        "Lý do: Một số phần chưa thể cuda.jit do thực hiện tính toán và tạo mảng trong hàm khiến cho cuda.jit không thể tạo kernel.  \n",
        "Hướng giải quyết: Thực hiện tái cấu trúc code phần Superpixel"
      ],
      "metadata": {
        "id": "BWg9Zr0WhXfD"
      }
    },
    {
      "cell_type": "markdown",
      "source": [
        "##4.2.Song song hóa lần 2"
      ],
      "metadata": {
        "id": "4IQnsSrpkjEl"
      }
    },
    {
      "cell_type": "markdown",
      "source": [
        "###4.2.1. **Thiết kế dự kiến**"
      ],
      "metadata": {
        "id": "7RtoBZ7V4i14"
      }
    },
    {
      "cell_type": "markdown",
      "source": [
        "<img src=\"https://raw.githubusercontent.com/kimdinhloc/Applied_Parallel_Programming_HK2_2021_2022/main/Illustrated%20image/Model/parallel_v2.JPG\" \n",
        "     width=\"1152\" \n",
        "     height=\"360\" />"
      ],
      "metadata": {
        "id": "2UJm6Adh4tLu"
      }
    },
    {
      "cell_type": "markdown",
      "source": [
        "###4.2.2. **Thực nghiệm dự kiến**"
      ],
      "metadata": {
        "id": "iyYWPD_HlWLg"
      }
    },
    {
      "cell_type": "markdown",
      "source": [
        "BUG ĐÃ XÂM CHIẾM KHU VỰC NÀY :))))"
      ],
      "metadata": {
        "id": "nYCWAR_8MB8F"
      }
    },
    {
      "cell_type": "markdown",
      "source": [
        "#5. SAI SỐ MÔ HÌNH"
      ],
      "metadata": {
        "id": "8CyMQnOk56Vn"
      }
    },
    {
      "cell_type": "markdown",
      "source": [
        "Xem chi tiết quá trình thực nghiệm tại [link colab](https://colab.research.google.com/drive/1Uf6rruTo7wDgZ8h47HaaxB5ip1xA8_IR?usp=sharing) tại mục 3. SO SÁNH SAI SỐ"
      ],
      "metadata": {
        "id": "fT2ZgndYMdaN"
      }
    },
    {
      "cell_type": "markdown",
      "source": [
        "BUG CŨNG ĐÃ XÂM CHIẾM KHU VỰC NÀY :))))"
      ],
      "metadata": {
        "id": "KUa8-r4_MYK3"
      }
    },
    {
      "cell_type": "markdown",
      "source": [
        "#6. TỔNG KẾT THỰC NGHIỆM"
      ],
      "metadata": {
        "id": "xojBmFD25BmX"
      }
    },
    {
      "cell_type": "markdown",
      "source": [
        "<table>\n",
        "<thead>\n",
        "<tr>\n",
        "<th>Image</th>\n",
        "<th>Non jit</th>\n",
        "<th>jit version 1</th>\n",
        "<th>jit version 2</th>\n",
        "<th>parallel version 1</th>\n",
        "<th>parallel version 2</th>\n",
        "</tr>\n",
        "</thead>\n",
        "<tbody>\n",
        "<tr>\n",
        "<td>600x455</td>\n",
        "<td>228</td>\n",
        "<td>188</td>\n",
        "<td>72</td>\n",
        "<td>187</td>\n",
        "<td>none</td>\n",
        "</tr>\n",
        "<tr>\n",
        "<td>3264x2488</td>\n",
        "<td>>1500</td>\n",
        "<td>none</td>\n",
        "<td>none</td>\n",
        "<td>none</td>\n",
        "<td>none</td>\n",
        "</tr>\n",
        "</tbody>\n",
        "</table>"
      ],
      "metadata": {
        "id": "pbx32Ggj6QRT"
      }
    },
    {
      "cell_type": "markdown",
      "source": [
        "#7. KINH NGIỆM TÍCH LUỸ TỪ ĐỒ ÁN"
      ],
      "metadata": {
        "id": "LCx3_hWmS1vf"
      }
    },
    {
      "cell_type": "markdown",
      "source": [
        "Mỗi thành viên trong nhóm đã học được những gì từ đồ án"
      ],
      "metadata": {
        "id": "-rh9ftA-S_D-"
      }
    },
    {
      "cell_type": "markdown",
      "source": [
        "**1712568 - KIM ĐÌNH LỘC**"
      ],
      "metadata": {
        "id": "2bL7LfcvS-P3"
      }
    },
    {
      "cell_type": "markdown",
      "source": [
        "abc"
      ],
      "metadata": {
        "id": "dROomLayTXJP"
      }
    },
    {
      "cell_type": "markdown",
      "source": [
        "**1712787 - NGUYỄN VĂN THÌN**"
      ],
      "metadata": {
        "id": "KJvzllThS-NH"
      }
    },
    {
      "cell_type": "markdown",
      "source": [
        "abc"
      ],
      "metadata": {
        "id": "JuaU3wCDTXj-"
      }
    },
    {
      "cell_type": "markdown",
      "source": [
        "**1712898 - TRẦN VIỆT VĂN**"
      ],
      "metadata": {
        "id": "IUwY_itRS90u"
      }
    },
    {
      "cell_type": "markdown",
      "source": [
        "abc"
      ],
      "metadata": {
        "id": "bpWiNQ7jTan_"
      }
    },
    {
      "cell_type": "markdown",
      "source": [
        "#TÀI LIỆU HÌNH ẢNH"
      ],
      "metadata": {
        "id": "TvlBUCgRNks-"
      }
    },
    {
      "cell_type": "markdown",
      "source": [
        "WIKIPEDIA - https://upload.wikimedia.org/wikipedia/commons/0/05/Cow-bw.JPG  \n",
        "REDDIT - https://www.reddit.com/r/dogpictures/comments/6puk20/i_am_speed_because_i_am_speedy/"
      ],
      "metadata": {
        "id": "FPmAzElrNn_F"
      }
    },
    {
      "cell_type": "markdown",
      "source": [
        "# TÀI LIỆU THAM KHẢO"
      ],
      "metadata": {
        "id": "4Xd0RNiE4Zie"
      }
    },
    {
      "cell_type": "markdown",
      "source": [
        "Grabcut https://cvg.ethz.ch/teaching/cvl/2012/grabcut-siggraph04.pdf"
      ],
      "metadata": {
        "id": "0Sc9o3mLUhoe"
      }
    },
    {
      "cell_type": "markdown",
      "source": [
        "Achanta, Radhakrishna, et al. Slic superpixels. No. REP_WORK. 2010. [Chi tiết tại đây!](https://infoscience.epfl.ch/record/149300)"
      ],
      "metadata": {
        "id": "r5Pck_iy45sz"
      }
    },
    {
      "cell_type": "markdown",
      "source": [
        "Le, Cuong Vo, et al. \"Superpixel-based background removal for accuracy salience person re-identification.\" 2016 IEEE International Conference on Consumer Electronics-Asia (ICCE-Asia). IEEE, 2016. [Chi tiết tại đây!](https://ieeexplore.ieee.org/abstract/document/7804806/)\n",
        "\n"
      ],
      "metadata": {
        "id": "ZYOZQzWt4l96"
      }
    }
  ],
  "metadata": {
    "colab": {
      "collapsed_sections": [],
      "name": "Report.ipynb",
      "provenance": [],
      "toc_visible": true,
      "include_colab_link": true
    },
    "kernelspec": {
      "display_name": "Python 3",
      "name": "python3"
    },
    "language_info": {
      "name": "python"
    },
    "accelerator": "GPU"
  },
  "nbformat": 4,
  "nbformat_minor": 0
}